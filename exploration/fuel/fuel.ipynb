{
 "metadata": {
  "name": "fuel"
 },
 "nbformat": 3,
 "nbformat_minor": 0,
 "worksheets": [
  {
   "cells": [
    {
     "cell_type": "markdown",
     "metadata": {},
     "source": [
      "Volumetric Fuel Landscape Metaphor\n",
      "===\n",
      "\n",
      "One of the examples in the paper is derived from the volumetric fuel dataset found [here](http://volvis.org/). I want to reproduce this visualization."
     ]
    },
    {
     "cell_type": "markdown",
     "metadata": {},
     "source": [
      "## Load the data\n",
      "The data is stored in binary format with each voxel stored as an 8bit unsigned int."
     ]
    },
    {
     "cell_type": "code",
     "collapsed": false,
     "input": [
      "# the data is stored in binary format. Read it into a numpy array.\n",
      "with open(\"fuel.raw\", \"rb\") as f:\n",
      "    bytes = []\n",
      "    # read a byte from the file\n",
      "    byte = f.read(1)\n",
      "    while byte:\n",
      "        bytes.append(byte)\n",
      "        byte = f.read(1)\n",
      "data = np.array([ord(b) for b in bytes])"
     ],
     "language": "python",
     "metadata": {},
     "outputs": [],
     "prompt_number": 1
    },
    {
     "cell_type": "markdown",
     "metadata": {},
     "source": [
      "According to the volvis site:\n",
      "\n",
      "> All datasets are binary, storing 8bit voxels for all slices, for all scanlines, and for all voxels.\n",
      "\n",
      "That means we need to reshape the array so that the first index corresponds to slice, the second to scanline, and the third to voxel."
     ]
    },
    {
     "cell_type": "code",
     "collapsed": false,
     "input": [
      "voxels = data.reshape((64,64,64))"
     ],
     "language": "python",
     "metadata": {},
     "outputs": [],
     "prompt_number": 2
    },
    {
     "cell_type": "markdown",
     "metadata": {},
     "source": [
      "## A quick visualization\n",
      "I want to make sure that I read the data correctly. Let's look at it."
     ]
    },
    {
     "cell_type": "code",
     "collapsed": false,
     "input": [
      "import mayavi\n",
      "from mayavi import mlab"
     ],
     "language": "python",
     "metadata": {},
     "outputs": [],
     "prompt_number": 3
    },
    {
     "cell_type": "code",
     "collapsed": false,
     "input": [
      "%gui wx"
     ],
     "language": "python",
     "metadata": {},
     "outputs": [],
     "prompt_number": 4
    },
    {
     "cell_type": "code",
     "collapsed": false,
     "input": [
      "mlab.pipeline.volume(mlab.pipeline.scalar_field(voxels), vmin=10, vmax=200)"
     ],
     "language": "python",
     "metadata": {},
     "outputs": [
      {
       "output_type": "pyout",
       "prompt_number": 5,
       "text": [
        "<mayavi.modules.volume.Volume at 0x81295f0>"
       ]
      }
     ],
     "prompt_number": 5
    },
    {
     "cell_type": "code",
     "collapsed": false,
     "input": [
      "mlab.contour3d(voxels)"
     ],
     "language": "python",
     "metadata": {},
     "outputs": [
      {
       "output_type": "pyout",
       "prompt_number": 6,
       "text": [
        "<mayavi.modules.iso_surface.IsoSurface at 0x8794ef0>"
       ]
      }
     ],
     "prompt_number": 6
    },
    {
     "cell_type": "markdown",
     "metadata": {},
     "source": [
      "## Read in the contour tree\n",
      "I used libtourtre in a very hacked-together way to compute the contour tree for the fuel dataset. There are two files: vertices.out and edges.out.\n",
      "\n",
      "Each line in vertices.out is of the form: vertex value."
     ]
    },
    {
     "cell_type": "markdown",
     "metadata": {},
     "source": [
      "Each line in edges.out is of the form: vertex1 vertex2 num_nodes_in_edge"
     ]
    },
    {
     "cell_type": "code",
     "collapsed": false,
     "input": [
      "with open(\"edges.out\") as fh:\n",
      "    lines = fh.readlines()\n",
      "    edges = np.array([l.strip().split() for l in lines], int)"
     ],
     "language": "python",
     "metadata": {},
     "outputs": [],
     "prompt_number": 175
    },
    {
     "cell_type": "code",
     "collapsed": false,
     "input": [
      "# convert the edge array to a list of tuples that networkx will like\n",
      "edge_tuples = [(n1,n2,dict(volume=v)) for (n1,n2,v) in edges.tolist()]"
     ],
     "language": "python",
     "metadata": {},
     "outputs": [],
     "prompt_number": 176
    },
    {
     "cell_type": "markdown",
     "metadata": {},
     "source": [
      "Now make a networkx graph out of this."
     ]
    },
    {
     "cell_type": "code",
     "collapsed": false,
     "input": [
      "import networkx as nx"
     ],
     "language": "python",
     "metadata": {},
     "outputs": [],
     "prompt_number": 177
    },
    {
     "cell_type": "code",
     "collapsed": false,
     "input": [
      "g = nx.Graph()\n",
      "g.add_edges_from(edge_tuples)"
     ],
     "language": "python",
     "metadata": {},
     "outputs": [],
     "prompt_number": 178
    },
    {
     "cell_type": "code",
     "collapsed": false,
     "input": [
      "with open(\"vertices.out\") as fh:\n",
      "    lines = fh.readlines()\n",
      "for l in lines:\n",
      "    n,h = l.strip().split()\n",
      "    g.node[int(n)]['height'] = int(h)"
     ],
     "language": "python",
     "metadata": {},
     "outputs": [],
     "prompt_number": 179
    },
    {
     "cell_type": "markdown",
     "metadata": {},
     "source": [
      "Now convert the graph to a tree"
     ]
    },
    {
     "cell_type": "code",
     "collapsed": false,
     "input": [
      "import sys\n",
      "sys.path.append(\"/home/eldridge/workbench/reeb/exploration/landscape/\")\n",
      "from landscape import induce_total_volume"
     ],
     "language": "python",
     "metadata": {},
     "outputs": [],
     "prompt_number": 210
    },
    {
     "cell_type": "code",
     "collapsed": false,
     "input": [
      "t = landscape.induce_tree(g,0)"
     ],
     "language": "python",
     "metadata": {},
     "outputs": [],
     "prompt_number": 181
    },
    {
     "cell_type": "markdown",
     "metadata": {},
     "source": [
      "And compute the tree properties."
     ]
    },
    {
     "cell_type": "code",
     "collapsed": false,
     "input": [
      "t = landscape.induce_total_volume(t)"
     ],
     "language": "python",
     "metadata": {},
     "outputs": [],
     "prompt_number": 182
    },
    {
     "cell_type": "markdown",
     "metadata": {},
     "source": [
      "## A toy tree"
     ]
    },
    {
     "cell_type": "code",
     "collapsed": false,
     "input": [
      "g = nx.Graph()\n",
      "g.add_edges_from([['u','v',{'volume':1}],\n",
      "                         ['v','x',{'volume':1}],\n",
      "                         ['v','y',{'volume':4}],\n",
      "                         ['y','w',{'volume':1}],\n",
      "                         ['y','z',{'volume':2}]])\n",
      "\n",
      "g.node['u']['height'] = 0\n",
      "g.node['v']['height'] = 1\n",
      "g.node['x']['height'] = 2\n",
      "g.node['y']['height'] = 3\n",
      "g.node['w']['height'] = 4\n",
      "g.node['z']['height'] = 5\n",
      "\n",
      "toy_tree = landscape.induce_tree(g, 'u')\n",
      "toy_tree = landscape.induce_total_volume(toy_tree)"
     ],
     "language": "python",
     "metadata": {},
     "outputs": [],
     "prompt_number": 15
    },
    {
     "cell_type": "code",
     "collapsed": false,
     "input": [
      "nx.draw_graphviz(toy_tree)"
     ],
     "language": "python",
     "metadata": {},
     "outputs": [
      {
       "output_type": "display_data",
       "png": "[encoded data removed]"
      }
     ],
     "prompt_number": 16
    },
    {
     "cell_type": "markdown",
     "metadata": {},
     "source": [
      "## Landscape Embedding Functions"
     ]
    },
    {
     "cell_type": "code",
     "collapsed": false,
     "input": [
      "import pdb"
     ],
     "language": "python",
     "metadata": {},
     "outputs": [],
     "prompt_number": 17
    },
    {
     "cell_type": "code",
     "collapsed": false,
     "input": [
      "class Rectangle():\n",
      "    def __init__(self, x_min=0, x_max=1, y_min=0, y_max=1):\n",
      "        self._bounds = [x_min, x_max, y_min, y_max]\n",
      "        \n",
      "    def __repr__(self):\n",
      "        return \"Rectangle(x_min={0}, x_max={1}, y_min={2}, y_max={3})\".format(*self._bounds)\n",
      "        \n",
      "    def points(self):\n",
      "        \"\"\"\n",
      "        Returns the corner points of the rectangle as a list.\n",
      "        The list's order is set such that the 0th point is the lower left, and the\n",
      "        indices increase clockwise.\n",
      "        \"\"\"\n",
      "        xmin, xmax, ymin, ymax = self._bounds\n",
      "        points = []\n",
      "        points.append([xmin,ymin])\n",
      "        points.append([xmin,ymax])\n",
      "        points.append([xmax,ymax])\n",
      "        points.append([xmax,ymin])\n",
      "        return points\n",
      "    \n",
      "    def scale(self, final_area):\n",
      "        \"\"\"\n",
      "        Scales the rectangle to area final_area without translation.\n",
      "        \"\"\"\n",
      "        xmin, xmax, ymin, ymax = self._bounds\n",
      "        aspect_ratio = self.aspect_ratio()\n",
      "        new_width = np.sqrt(final_area/aspect_ratio)\n",
      "        new_height = aspect_ratio*new_width\n",
      "        x_delta = (new_width - (xmax - xmin))/2\n",
      "        y_delta = (new_width - (ymax - ymin))/2\n",
      "        self._bounds = [xmin-x_delta, xmax+x_delta, ymin-y_delta, ymax+y_delta]\n",
      "        \n",
      "    def copy(self):\n",
      "        return Rectangle(*self._bounds)\n",
      "    \n",
      "    def bounds(self):\n",
      "        return list(self._bounds)\n",
      "        \n",
      "    def width(self):\n",
      "        return self._bounds[1] - self._bounds[0]\n",
      "    \n",
      "    def height(self):\n",
      "        return self._bounds[3] - self._bounds[2]\n",
      "    \n",
      "    def area(self):\n",
      "        return self.height()*self.width()\n",
      "    \n",
      "    def center(self):\n",
      "        xmin, xmax, ymin, ymax = self._bounds\n",
      "        return (xmax+xmin)/2.0, (ymax+ymin)/2.0\n",
      "    \n",
      "    def aspect_ratio(self):\n",
      "        return self.height()/float(self.width())\n",
      "    \n",
      "    def split(self, pct):\n",
      "        \"\"\"\n",
      "        Splits the rectangle in two, such that the left rectangle has pct% of the total area.\n",
      "        \"\"\"\n",
      "        xmin, xmax, ymin, ymax = self._bounds\n",
      "        split_point = self.width()*float(pct) + xmin\n",
      "        left_rectangle = Rectangle(xmin, split_point, ymin, ymax)\n",
      "        right_rectangle = Rectangle(split_point, xmax, ymin, ymax)\n",
      "        return left_rectangle, right_rectangle"
     ],
     "language": "python",
     "metadata": {},
     "outputs": [],
     "prompt_number": 18
    },
    {
     "cell_type": "code",
     "collapsed": false,
     "input": [
      "def embed_contour_tree(tree, root_node, bounding_rectangle=None):\n",
      "    \"\"\"\n",
      "    Given a tree and a root node, draws the landscape metaphor. The landscape\n",
      "    is contained within the domain specified by the bounding_rectangle.\n",
      "    \"\"\"\n",
      "    landscape_tree = tree.copy()\n",
      "    if bounding_rectangle is None:\n",
      "        bounding_rectangle = Rectangle(x_min=0,x_max=32,y_min=0,y_max=32)\n",
      "    # embed the root contour\n",
      "    landscape_tree.node[root_node]['rectangle'] = bounding_rectangle\n",
      "    # there should be a single child\n",
      "    successors = tree.successors(root_node)\n",
      "    assert len(successors)==1, \"Root node is not degree 1.\"\n",
      "    # the successor should be degree 3\n",
      "    assert len(tree.successors(successors[0]))==2, \"Root node does not point to node of degree 3.\"\n",
      "    embed_contour_subtree(landscape_tree, successors[0], bounding_rectangle)\n",
      "    return landscape_tree      "
     ],
     "language": "python",
     "metadata": {},
     "outputs": [],
     "prompt_number": 19
    },
    {
     "cell_type": "code",
     "collapsed": false,
     "input": [
      "def embed_contour_subtree(tree, node, parent_rectangle):\n",
      "    \"\"\"\n",
      "    Recursively embeds the subtree rooted at node in bounding rectangle.\n",
      "    \"\"\"\n",
      "    # we must check to see if the node is degree 1 (a leaf) or degree 3.\n",
      "    is_leaf = len(tree.successors(node))==0\n",
      "    if is_leaf:\n",
      "        embed_d1_child(tree, node, parent_rectangle)\n",
      "    else:\n",
      "        left_rectangle, right_rectangle = embed_d3_child(tree, node, parent_rectangle)\n",
      "        # now recurse for the two child nodes\n",
      "        left_child, right_child = tree.successors(node)\n",
      "        embed_contour_subtree(tree, left_child, left_rectangle)\n",
      "        embed_contour_subtree(tree, right_child, right_rectangle)"
     ],
     "language": "python",
     "metadata": {},
     "outputs": [],
     "prompt_number": 20
    },
    {
     "cell_type": "code",
     "collapsed": false,
     "input": [
      "def embed_d1_child(tree, node, parent_rectangle):\n",
      "    \"\"\"\n",
      "    Embeds a leaf node, returning a leaf dictionary.\n",
      "    \"\"\"\n",
      "    position = parent_rectangle.center()\n",
      "    tree.node[node]['position'] = position\n",
      "    return position"
     ],
     "language": "python",
     "metadata": {},
     "outputs": [],
     "prompt_number": 21
    },
    {
     "cell_type": "code",
     "collapsed": false,
     "input": [
      "def embed_d3_child(tree, node, parent_rectangle):\n",
      "    \"\"\"\n",
      "    Embeds a degree 3 node, returning a left contour and a right contour.\n",
      "    \"\"\"\n",
      "    parent = tree.predecessors(node)[0]\n",
      "    # scale the parent contour down\n",
      "    parent_area = parent_rectangle.area()\n",
      "    parent_volume = tree.node[parent]['total_volume']\n",
      "    child_volume = tree.node[node]['total_volume']\n",
      "    child_area = float(child_volume)/parent_volume * parent_area\n",
      "    child_rectangle = parent_rectangle.copy()\n",
      "    child_rectangle.scale(child_area)\n",
      "    # divide the child rectangle in two according to the left and right branch volumes\n",
      "    left_child, right_child = tree.successors(node)\n",
      "    left_volume = tree.edge[node][left_child]['total_volume']\n",
      "    right_volume = tree.edge[node][right_child]['total_volume']\n",
      "    left_share = left_volume/float(child_volume)\n",
      "    # split the child rectangle\n",
      "    left_rectangle, right_rectangle = child_rectangle.split(left_share)\n",
      "    tree.node[node]['left_rectangle'] = left_rectangle\n",
      "    tree.node[node]['right_rectangle'] = right_rectangle\n",
      "    return left_rectangle, right_rectangle       "
     ],
     "language": "python",
     "metadata": {},
     "outputs": [],
     "prompt_number": 108
    },
    {
     "cell_type": "markdown",
     "metadata": {},
     "source": [
      "## A toy tree"
     ]
    },
    {
     "cell_type": "code",
     "collapsed": false,
     "input": [
      "nx.draw_graphviz(toy_tree)"
     ],
     "language": "python",
     "metadata": {},
     "outputs": [
      {
       "output_type": "display_data",
       "png": "[encoded data removed]"
      }
     ],
     "prompt_number": 109
    },
    {
     "cell_type": "code",
     "collapsed": false,
     "input": [
      "landscape = embed_contour_tree(toy_tree, root_node='u')"
     ],
     "language": "python",
     "metadata": {},
     "outputs": [],
     "prompt_number": 110
    },
    {
     "cell_type": "markdown",
     "metadata": {},
     "source": [
      "## Drawing Functions"
     ]
    },
    {
     "cell_type": "code",
     "collapsed": false,
     "input": [
      "from mayavi import mlab\n",
      "%gui wx"
     ],
     "language": "python",
     "metadata": {},
     "outputs": [],
     "prompt_number": 111
    },
    {
     "cell_type": "code",
     "collapsed": false,
     "input": [
      "def triangulate_landscape(landscape, root_node, normalize=True, scene_size=None):\n",
      "    \"\"\"\n",
      "    Produce a triangular mesh of the landscape.\n",
      "    \"\"\"\n",
      "    tris = np.empty((0,3))\n",
      "    points = np.empty((0,3))\n",
      "    # add the points from the root node's contour\n",
      "    root_props = landscape.node[root_node]\n",
      "    height_vec = np.repeat(root_props['height'],4)\n",
      "    root_points = np.column_stack((root_props['rectangle'].points(), height_vec))\n",
      "    points = np.vstack((points, root_points))\n",
      "    # now recursively add the points from the subtree\n",
      "    child = landscape.successors(root_node)[0]\n",
      "    bounding_indices = [0,1,2,3]\n",
      "    points, tris = triangulate_sublandscape(landscape, child, points, tris, bounding_indices)\n",
      "    if normalize:\n",
      "        if scene_size is None:\n",
      "            scene_size = landscape.node[root_node]['rectangle'].width()\n",
      "        height_range = np.ptp(points[:,2])\n",
      "        scale_factor = scene_size/height_range\n",
      "        points[:,2] = scale_factor*points[:,2]\n",
      "    return points, tris"
     ],
     "language": "python",
     "metadata": {},
     "outputs": [],
     "prompt_number": 134
    },
    {
     "cell_type": "code",
     "collapsed": false,
     "input": [
      "def triangulate_sublandscape(landscape, node, points, tris, bounding_indices):\n",
      "    \"\"\"\n",
      "    Recursively triangulates a mesh of the landscape. The input node is either\n",
      "    degree 3 or degree 1 (a leaf).\n",
      "    \"\"\"\n",
      "    is_leaf = len(landscape.successors(node))==0\n",
      "    if is_leaf:\n",
      "        points,tris = triangulate_d1_child(landscape, node, points, tris, bounding_indices)\n",
      "    else:\n",
      "        points,tris,left_indices,right_indices = triangulate_d3_child(landscape, node, points, tris, bounding_indices)\n",
      "        # recursively add points from the left and right branches\n",
      "        left_child,right_child = landscape.successors(node)\n",
      "        points,tris = triangulate_sublandscape(landscape, left_child, points, tris, left_indices)\n",
      "        points,tris = triangulate_sublandscape(landscape, right_child, points, tris, right_indices)\n",
      "    return points, tris"
     ],
     "language": "python",
     "metadata": {},
     "outputs": [],
     "prompt_number": 127
    },
    {
     "cell_type": "code",
     "collapsed": false,
     "input": [
      "def triangulate_d1_child(landscape, node, points, tris, bounding_indices):\n",
      "    # add the leaf's points to the big points list\n",
      "    leaf_position = landscape.node[node]['position']\n",
      "    leaf_height = landscape.node[node]['height']\n",
      "    leaf_point = np.append(leaf_position, leaf_height)\n",
      "    points = np.vstack((points, leaf_point))\n",
      "    # now hook up the bounding indices to the point\n",
      "    pleaf = points.shape[0] - 1\n",
      "    p0,p1,p2,p3 = bounding_indices\n",
      "    leaf_tris = [[p0,p1,pleaf], [p1,p2,pleaf], [p2,p3,pleaf], [p3,p0,pleaf]]\n",
      "    tris = np.vstack((tris, leaf_tris))\n",
      "    return points, tris"
     ],
     "language": "python",
     "metadata": {},
     "outputs": [],
     "prompt_number": 128
    },
    {
     "cell_type": "code",
     "collapsed": false,
     "input": [
      "def triangulate_nested_rectangles(inner, outer):\n",
      "    \"\"\"\n",
      "    Given the indices of the corners of rectangles in clockwise order, generates a list of\n",
      "    the triangles in the triangular mesh.\n",
      "    \"\"\"\n",
      "    o0,o1,o2,o3 = outer\n",
      "    i0,i1,i2,i3 = inner\n",
      "    tris = [[o0,o1,i0], [i0,i1,o1], [o1,o2,i1], [i1,i2,o2], [i2,o2,o3], [i2,i3,o3],\n",
      "        [i3,o3,o0], [i0,o0,i3]]\n",
      "    return tris"
     ],
     "language": "python",
     "metadata": {},
     "outputs": [],
     "prompt_number": 129
    },
    {
     "cell_type": "code",
     "collapsed": false,
     "input": [
      "def triangulate_d3_child(landscape, node, points, tris, bounding_indices):\n",
      "    # add the d3 node's points to the point list. We will add the points in\n",
      "    # clockwise order so that the corner points of the bounding rectangle are\n",
      "    # the 0,1,3,4 points in the ordering\n",
      "    left_points = landscape.node[node]['left_rectangle'].points()\n",
      "    right_points = landscape.node[node]['right_rectangle'].points()\n",
      "    node_points = []\n",
      "    node_points.extend(left_points[0:3])\n",
      "    node_points.extend(right_points[2:4])\n",
      "    node_points.append(left_points[-1])\n",
      "    # add the height of the node to the points\n",
      "    height_vec = np.repeat(landscape.node[node]['height'],6)\n",
      "    node_points = np.column_stack((node_points, height_vec))\n",
      "    points = np.vstack((points, node_points))\n",
      "    # calculate the indices of the node points\n",
      "    base_index = points.shape[0]-6\n",
      "    node_indices = base_index + np.array([0,1,3,4])\n",
      "    left_indices = base_index + np.array([0,1,2,5])\n",
      "    right_indices = base_index + np.array([5,2,3,4])\n",
      "    node_tris = triangulate_nested_rectangles(node_indices, bounding_indices)\n",
      "    tris = np.vstack((tris, node_tris))\n",
      "    return points, tris, left_indices, right_indices"
     ],
     "language": "python",
     "metadata": {},
     "outputs": [],
     "prompt_number": 141
    },
    {
     "cell_type": "code",
     "collapsed": false,
     "input": [
      "points, tris = triangulate_landscape(landscape, root_node='u', normalize=True, scene_size=16)"
     ],
     "language": "python",
     "metadata": {},
     "outputs": [],
     "prompt_number": 142
    },
    {
     "cell_type": "code",
     "collapsed": false,
     "input": [
      "x,y,z, = points.T"
     ],
     "language": "python",
     "metadata": {},
     "outputs": [],
     "prompt_number": 143
    },
    {
     "cell_type": "code",
     "collapsed": false,
     "input": [
      "mlab.triangular_mesh(x,y,z,tris)"
     ],
     "language": "python",
     "metadata": {},
     "outputs": [
      {
       "output_type": "pyout",
       "prompt_number": 174,
       "text": [
        "<mayavi.modules.surface.Surface at 0xcdb6410>"
       ]
      }
     ],
     "prompt_number": 174
    },
    {
     "cell_type": "markdown",
     "metadata": {},
     "source": [
      "---"
     ]
    },
    {
     "cell_type": "code",
     "collapsed": false,
     "input": [
      "from collections import Counter"
     ],
     "language": "python",
     "metadata": {},
     "outputs": [],
     "prompt_number": 184
    },
    {
     "cell_type": "code",
     "collapsed": false,
     "input": [
      "bad_nodes = [n for n in t if len(t.successors(n))==3]"
     ],
     "language": "python",
     "metadata": {},
     "outputs": [
      {
       "output_type": "pyout",
       "prompt_number": 191,
       "text": [
        "[166261, 112626]"
       ]
      }
     ],
     "prompt_number": 191
    },
    {
     "cell_type": "code",
     "collapsed": false,
     "input": [
      "t[166261]"
     ],
     "language": "python",
     "metadata": {},
     "outputs": [
      {
       "output_type": "pyout",
       "prompt_number": 192,
       "text": [
        "{162165: {'total_volume': 1, 'volume': 1},\n",
        " 166197: {'total_volume': 1, 'volume': 1},\n",
        " 169781: {'total_volume': 12612, 'volume': 20}}"
       ]
      }
     ],
     "prompt_number": 192
    },
    {
     "cell_type": "code",
     "collapsed": false,
     "input": [
      "t[112626]"
     ],
     "language": "python",
     "metadata": {},
     "outputs": [
      {
       "output_type": "pyout",
       "prompt_number": 193,
       "text": [
        "{108595: {'total_volume': 2, 'volume': 2},\n",
        " 112690: {'total_volume': 1, 'volume': 1},\n",
        " 128754: {'total_volume': 178, 'volume': 2}}"
       ]
      }
     ],
     "prompt_number": 193
    },
    {
     "cell_type": "code",
     "collapsed": false,
     "input": [
      "t.remove_nodes_from([162165, 112690])"
     ],
     "language": "python",
     "metadata": {},
     "outputs": [],
     "prompt_number": 194
    },
    {
     "cell_type": "code",
     "collapsed": false,
     "input": [
      "landscape = embed_contour_tree(t, root_node=0)"
     ],
     "language": "python",
     "metadata": {},
     "outputs": [],
     "prompt_number": 213
    },
    {
     "cell_type": "code",
     "collapsed": false,
     "input": [
      "points, tris = triangulate_landscape(landscape, root_node=0, normalize=True, scene_size=1)"
     ],
     "language": "python",
     "metadata": {},
     "outputs": [],
     "prompt_number": 219
    },
    {
     "cell_type": "code",
     "collapsed": false,
     "input": [
      "x,y,z, = points.T"
     ],
     "language": "python",
     "metadata": {},
     "outputs": [],
     "prompt_number": 220
    },
    {
     "cell_type": "code",
     "collapsed": false,
     "input": [
      "mlab.triangular_mesh(x,y,z,tris)"
     ],
     "language": "python",
     "metadata": {},
     "outputs": [
      {
       "output_type": "pyout",
       "prompt_number": 221,
       "text": [
        "<mayavi.modules.surface.Surface at 0xdb8c6b0>"
       ]
      }
     ],
     "prompt_number": 221
    },
    {
     "cell_type": "code",
     "collapsed": false,
     "input": [
      "t.node[0]"
     ],
     "language": "python",
     "metadata": {},
     "outputs": [
      {
       "output_type": "pyout",
       "prompt_number": 222,
       "text": [
        "{'height': 0, 'total_volume': 262144}"
       ]
      }
     ],
     "prompt_number": 222
    },
    {
     "cell_type": "code",
     "collapsed": false,
     "input": [
      "t.node[105143]"
     ],
     "language": "python",
     "metadata": {},
     "outputs": [
      {
       "output_type": "pyout",
       "prompt_number": 223,
       "text": [
        "{'height': 0, 'total_volume': 158758}"
       ]
      }
     ],
     "prompt_number": 223
    },
    {
     "cell_type": "code",
     "collapsed": false,
     "input": [
      "t.node[105142]"
     ],
     "language": "python",
     "metadata": {},
     "outputs": [
      {
       "output_type": "pyout",
       "prompt_number": 224,
       "text": [
        "{'height': 0, 'total_volume': 0}"
       ]
      }
     ],
     "prompt_number": 224
    },
    {
     "cell_type": "code",
     "collapsed": false,
     "input": [
      "t.node[109238]"
     ],
     "language": "python",
     "metadata": {},
     "outputs": [
      {
       "output_type": "pyout",
       "prompt_number": 225,
       "text": [
        "{'height': 0, 'total_volume': 155313}"
       ]
      }
     ],
     "prompt_number": 225
    },
    {
     "cell_type": "code",
     "collapsed": false,
     "input": [],
     "language": "python",
     "metadata": {},
     "outputs": []
    }
   ],
   "metadata": {}
  }
 ]
}