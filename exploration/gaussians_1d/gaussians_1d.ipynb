{
 "metadata": {
  "name": "gaussians_1d"
 },
 "nbformat": 3,
 "nbformat_minor": 0,
 "worksheets": [
  {
   "cells": [
    {
     "cell_type": "markdown",
     "metadata": {},
     "source": [
      "#Landscape Metaphor for Gaussian Mixture Models"
     ]
    },
    {
     "cell_type": "code",
     "collapsed": false,
     "input": [
      "import sys\n",
      "sys.path.append(\"../../lib/\")\n",
      "import pyreeb\n",
      "import pyreeb.complex\n",
      "import pyreeb.contourtree\n",
      "import pyreeb.landscape\n",
      "import networkx as nx\n",
      "import numpy as np"
     ],
     "language": "python",
     "metadata": {},
     "outputs": [],
     "prompt_number": 1
    },
    {
     "cell_type": "markdown",
     "metadata": {},
     "source": [
      "First, let's test pyreeb out."
     ]
    },
    {
     "cell_type": "code",
     "collapsed": false,
     "input": [
      "neighbors = [[1,2], [0,2,4,3], [0,1,4], [1,4,5,7,6], [2,3,1,5,9,10], [7,3,4,9], [8,7,3], [8,6,3,5], [6,7], [5,4,10,11], [4,9,11], [9,10]]"
     ],
     "language": "python",
     "metadata": {},
     "outputs": [],
     "prompt_number": 2
    },
    {
     "cell_type": "code",
     "collapsed": false,
     "input": [
      "values = [0,1.1,1.2,2.1,2.2,3.1,3.2,3.3,4,3.4,3.5,4.1]"
     ],
     "language": "python",
     "metadata": {},
     "outputs": [],
     "prompt_number": 3
    },
    {
     "cell_type": "code",
     "collapsed": false,
     "input": [
      "g = nx.Graph()\n",
      "for i,nbrs in enumerate(neighbors):\n",
      "    for k in nbrs:\n",
      "        g.add_edge(i,k)\n",
      "    g.node[i]['height'] = values[i]"
     ],
     "language": "python",
     "metadata": {},
     "outputs": [],
     "prompt_number": 4
    },
    {
     "cell_type": "code",
     "collapsed": false,
     "input": [
      "act = pyreeb.contourtree.augmented_contour_tree(g)"
     ],
     "language": "python",
     "metadata": {},
     "outputs": [],
     "prompt_number": 5
    },
    {
     "cell_type": "code",
     "collapsed": false,
     "input": [
      "nx.draw_graphviz(act)"
     ],
     "language": "python",
     "metadata": {},
     "outputs": [
      {
       "output_type": "display_data",
       "png": "[encoded data removed]"
      }
     ],
     "prompt_number": 6
    },
    {
     "cell_type": "code",
     "collapsed": false,
     "input": [
      "ct = pyreeb.contourtree.contour_tree(g)"
     ],
     "language": "python",
     "metadata": {},
     "outputs": [],
     "prompt_number": 7
    },
    {
     "cell_type": "code",
     "collapsed": false,
     "input": [
      "ct = pyreeb.contourtree.choose_root(ct, 0)"
     ],
     "language": "python",
     "metadata": {},
     "outputs": [],
     "prompt_number": 8
    },
    {
     "cell_type": "code",
     "collapsed": false,
     "input": [
      "ct = pyreeb.contourtree.uniform_volume(ct)"
     ],
     "language": "python",
     "metadata": {},
     "outputs": [],
     "prompt_number": 9
    },
    {
     "cell_type": "code",
     "collapsed": false,
     "input": [
      "ct = pyreeb.contourtree.induce_total_volume(ct)"
     ],
     "language": "python",
     "metadata": {},
     "outputs": [],
     "prompt_number": 10
    },
    {
     "cell_type": "code",
     "collapsed": false,
     "input": [
      "nx.draw_graphviz(ct)"
     ],
     "language": "python",
     "metadata": {},
     "outputs": [
      {
       "output_type": "display_data",
       "png": "[encoded data removed]"
      }
     ],
     "prompt_number": 11
    },
    {
     "cell_type": "markdown",
     "metadata": {},
     "source": [
      "Looks like it works. Now let's generate some real data."
     ]
    },
    {
     "cell_type": "markdown",
     "metadata": {},
     "source": [
      "## Mixture of Gaussians"
     ]
    },
    {
     "cell_type": "markdown",
     "metadata": {},
     "source": [
      "Define the parameters of the distributions."
     ]
    },
    {
     "cell_type": "code",
     "collapsed": false,
     "input": [
      "parameters = np.array([ [0, 1.0],\n",
      "                        [2, 0.5],\n",
      "                        [3, 0.2],\n",
      "                        [4, 0.5],\n",
      "                        [1, 0.2]])"
     ],
     "language": "python",
     "metadata": {},
     "outputs": [],
     "prompt_number": 12
    },
    {
     "cell_type": "markdown",
     "metadata": {},
     "source": [
      "Now generate samples..."
     ]
    },
    {
     "cell_type": "code",
     "collapsed": false,
     "input": [
      "# the number of points to draw\n",
      "n_data_samples = 10000\n",
      "\n",
      "data = np.empty((0,))\n",
      "for dist in parameters:\n",
      "    mu, sigma = dist\n",
      "    data = np.append(data, np.random.normal(mu, sigma, n_data_samples))"
     ],
     "language": "python",
     "metadata": {},
     "outputs": [],
     "prompt_number": 13
    },
    {
     "cell_type": "code",
     "collapsed": false,
     "input": [
      "plt.hist(data,200);"
     ],
     "language": "python",
     "metadata": {},
     "outputs": [
      {
       "output_type": "display_data",
       "png": "[encoded data removed]"
      }
     ],
     "prompt_number": 14
    },
    {
     "cell_type": "markdown",
     "metadata": {},
     "source": [
      "Now we must generate a parameter space to search. We'll do this by sampling normally around the correct parameters."
     ]
    },
    {
     "cell_type": "code",
     "collapsed": false,
     "input": [
      "# the number of parameter samples to draw\n",
      "n_param_samples = 1000"
     ],
     "language": "python",
     "metadata": {},
     "outputs": [],
     "prompt_number": 51
    },
    {
     "cell_type": "code",
     "collapsed": false,
     "input": [
      "mu = parameters.flatten()\n",
      "sigma = np.eye(mu.shape[0])*.5"
     ],
     "language": "python",
     "metadata": {},
     "outputs": [],
     "prompt_number": 90
    },
    {
     "cell_type": "code",
     "collapsed": false,
     "input": [
      "parameter_space = np.random.multivariate_normal(mu, sigma, n_param_samples)"
     ],
     "language": "python",
     "metadata": {},
     "outputs": [],
     "prompt_number": 91
    },
    {
     "cell_type": "code",
     "collapsed": false,
     "input": [
      "# hack for now so that we don't get negative std dev\n",
      "parameter_space = np.abs(parameter_space)"
     ],
     "language": "python",
     "metadata": {},
     "outputs": [],
     "prompt_number": 92
    },
    {
     "cell_type": "markdown",
     "metadata": {},
     "source": [
      "And now we compute the likelihood for each sampled parameter vector."
     ]
    },
    {
     "cell_type": "code",
     "collapsed": false,
     "input": [
      "import sklearn.mixture"
     ],
     "language": "python",
     "metadata": {},
     "outputs": [],
     "prompt_number": 93
    },
    {
     "cell_type": "code",
     "collapsed": false,
     "input": [
      "gmm = sklearn.mixture.GMM(len(parameters))"
     ],
     "language": "python",
     "metadata": {},
     "outputs": [],
     "prompt_number": 94
    },
    {
     "cell_type": "code",
     "collapsed": false,
     "input": [
      "gmm.fit(data)"
     ],
     "language": "python",
     "metadata": {},
     "outputs": [
      {
       "output_type": "pyout",
       "prompt_number": 95,
       "text": [
        "GMM(covariance_type='diag', init_params='wmc', min_covar=0.001,\n",
        "  n_components=5, n_init=1, n_iter=100, params='wmc', random_state=None,\n",
        "  thresh=0.01)"
       ]
      }
     ],
     "prompt_number": 95
    },
    {
     "cell_type": "code",
     "collapsed": false,
     "input": [
      "gmm.score(data)"
     ],
     "language": "python",
     "metadata": {},
     "outputs": [
      {
       "output_type": "pyout",
       "prompt_number": 96,
       "text": [
        "array([-2.57893197, -3.5129183 , -2.75550409, ..., -1.05363102,\n",
        "       -0.76830088, -0.7934159 ])"
       ]
      }
     ],
     "prompt_number": 96
    },
    {
     "cell_type": "code",
     "collapsed": false,
     "input": [
      "likelihoods = []\n",
      "for param in parameter_space:\n",
      "    mu,sigma = param.reshape((-1,2)).T\n",
      "    mu = mu[np.newaxis].T\n",
      "    sigma = sigma[np.newaxis].T\n",
      "    gmm.means_ = mu\n",
      "    gmm.covars_ = sigma\n",
      "    likelihoods.append(gmm.score(data).sum())"
     ],
     "language": "python",
     "metadata": {},
     "outputs": [],
     "prompt_number": 97
    },
    {
     "cell_type": "markdown",
     "metadata": {},
     "source": [
      "Calculate the best match:"
     ]
    },
    {
     "cell_type": "code",
     "collapsed": false,
     "input": [
      "parameter_space[np.argmax(likelihoods)].reshape((-1,2))"
     ],
     "language": "python",
     "metadata": {},
     "outputs": [
      {
       "output_type": "pyout",
       "prompt_number": 98,
       "text": [
        "array([[  3.29363704e-03,   1.77800204e+00],\n",
        "       [  1.03978539e+00,   4.07700757e-02],\n",
        "       [  2.94095340e+00,   1.09022428e+00],\n",
        "       [  3.59936248e+00,   4.42054376e-01],\n",
        "       [  1.90067882e+00,   6.42357549e-01]])"
       ]
      }
     ],
     "prompt_number": 98
    },
    {
     "cell_type": "markdown",
     "metadata": {},
     "source": [
      "## Contour Trees"
     ]
    },
    {
     "cell_type": "markdown",
     "metadata": {},
     "source": [
      "Compute a knn graph complex:"
     ]
    },
    {
     "cell_type": "code",
     "collapsed": false,
     "input": [
      "reload(pyreeb.complex)\n",
      "reload(pyreeb.contourtree)"
     ],
     "language": "python",
     "metadata": {},
     "outputs": [
      {
       "output_type": "pyout",
       "prompt_number": 99,
       "text": [
        "<module 'pyreeb.contourtree' from '../../lib/pyreeb/contourtree/__init__.pyc'>"
       ]
      }
     ],
     "prompt_number": 99
    },
    {
     "cell_type": "code",
     "collapsed": false,
     "input": [
      "plex = pyreeb.complex.kneighbors(parameter_space,10)"
     ],
     "language": "python",
     "metadata": {},
     "outputs": [],
     "prompt_number": 118
    },
    {
     "cell_type": "code",
     "collapsed": false,
     "input": [
      "plex.number_of_nodes(), plex.number_of_edges()"
     ],
     "language": "python",
     "metadata": {},
     "outputs": [
      {
       "output_type": "pyout",
       "prompt_number": 119,
       "text": [
        "(3000, 19600)"
       ]
      }
     ],
     "prompt_number": 119
    },
    {
     "cell_type": "markdown",
     "metadata": {},
     "source": [
      "Define the likelihood as a function on the complex."
     ]
    },
    {
     "cell_type": "code",
     "collapsed": false,
     "input": [
      "for node in plex:\n",
      "    plex.node[node][\"height\"] = likelihoods[node]"
     ],
     "language": "python",
     "metadata": {},
     "outputs": [],
     "prompt_number": 120
    },
    {
     "cell_type": "markdown",
     "metadata": {},
     "source": [
      "Now compute the contour tree."
     ]
    },
    {
     "cell_type": "code",
     "collapsed": false,
     "input": [
      "ct = pyreeb.contourtree.contour_tree(plex)"
     ],
     "language": "python",
     "metadata": {},
     "outputs": [],
     "prompt_number": 128
    },
    {
     "cell_type": "markdown",
     "metadata": {},
     "source": [
      "Find the minimum node."
     ]
    },
    {
     "cell_type": "code",
     "collapsed": false,
     "input": [
      "root_node = min(ct.nodes(), key=lambda n : ct.node[n]['height'])"
     ],
     "language": "python",
     "metadata": {},
     "outputs": [],
     "prompt_number": 129
    },
    {
     "cell_type": "code",
     "collapsed": false,
     "input": [
      "set([len(ct.neighbors(n)) for n in ct])"
     ],
     "language": "python",
     "metadata": {},
     "outputs": [
      {
       "output_type": "pyout",
       "prompt_number": 130,
       "text": [
        "set([1, 3, 4])"
       ]
      }
     ],
     "prompt_number": 130
    },
    {
     "cell_type": "code",
     "collapsed": false,
     "input": [
      "ct = pyreeb.contourtree.choose_root(ct, root_node)"
     ],
     "language": "python",
     "metadata": {},
     "outputs": [],
     "prompt_number": 131
    },
    {
     "cell_type": "code",
     "collapsed": false,
     "input": [
      "ct = pyreeb.contourtree.uniform_volume(ct)"
     ],
     "language": "python",
     "metadata": {},
     "outputs": [],
     "prompt_number": 132
    },
    {
     "cell_type": "code",
     "collapsed": false,
     "input": [
      "ct = pyreeb.contourtree.induce_total_volume(ct)"
     ],
     "language": "python",
     "metadata": {},
     "outputs": [],
     "prompt_number": 133
    },
    {
     "cell_type": "code",
     "collapsed": false,
     "input": [
      "[(n,ct.node[n]['total_volume'], ct.out_degree(n)) for n in ct]"
     ],
     "language": "python",
     "metadata": {},
     "outputs": [
      {
       "output_type": "pyout",
       "prompt_number": 134,
       "text": [
        "[(2057, 0, 0),\n",
        " (2061, 4, 2),\n",
        " (14, 0, 0),\n",
        " (15, 0, 0),\n",
        " (16, 1318, 2),\n",
        " (2065, 1354, 2),\n",
        " (19, 1136, 2),\n",
        " (21, 0, 0),\n",
        " (2076, 0, 0),\n",
        " (31, 0, 0),\n",
        " (2081, 1325, 2),\n",
        " (43, 0, 0),\n",
        " (46, 0, 0),\n",
        " (47, 692, 2),\n",
        " (2101, 0, 0),\n",
        " (54, 0, 0),\n",
        " (2106, 1097, 2),\n",
        " (2108, 134, 2),\n",
        " (64, 555, 2),\n",
        " (2115, 1273, 2),\n",
        " (2118, 0, 0),\n",
        " (75, 2, 2),\n",
        " (13, 833, 2),\n",
        " (2138, 0, 0),\n",
        " (93, 1363, 2),\n",
        " (99, 27, 2),\n",
        " (2152, 0, 0),\n",
        " (107, 39, 2),\n",
        " (108, 0, 0),\n",
        " (2067, 0, 0),\n",
        " (118, 0, 0),\n",
        " (2168, 0, 2),\n",
        " (126, 50, 2),\n",
        " (2179, 1347, 2),\n",
        " (135, 0, 0),\n",
        " (2197, 0, 0),\n",
        " (150, 0, 0),\n",
        " (152, 1290, 2),\n",
        " (2204, 1216, 2),\n",
        " (2206, 1138, 2),\n",
        " (164, 0, 2),\n",
        " (2215, 0, 0),\n",
        " (2216, 1281, 2),\n",
        " (169, 112, 2),\n",
        " (173, 0, 0),\n",
        " (174, 0, 0),\n",
        " (175, 0, 0),\n",
        " (2224, 0, 0),\n",
        " (2227, 1269, 2),\n",
        " (189, 0, 0),\n",
        " (190, 1343, 3),\n",
        " (2240, 0, 0),\n",
        " (2241, 101, 2),\n",
        " (2243, 0, 0),\n",
        " (2251, 0, 0),\n",
        " (207, 0, 0),\n",
        " (2268, 0, 0),\n",
        " (2269, 0, 0),\n",
        " (223, 64, 2),\n",
        " (2281, 272, 2),\n",
        " (247, 1284, 2),\n",
        " (2298, 3, 2),\n",
        " (253, 0, 0),\n",
        " (2309, 548, 2),\n",
        " (264, 0, 0),\n",
        " (2318, 788, 2),\n",
        " (2319, 0, 0),\n",
        " (272, 0, 0),\n",
        " (2332, 0, 0),\n",
        " (2333, 0, 0),\n",
        " (289, 0, 0),\n",
        " (2339, 0, 0),\n",
        " (292, 1326, 2),\n",
        " (295, 0, 0),\n",
        " (304, 1321, 2),\n",
        " (2354, 0, 0),\n",
        " (313, 1243, 2),\n",
        " (314, 0, 0),\n",
        " (315, 0, 0),\n",
        " (2367, 0, 0),\n",
        " (320, 1365, 1),\n",
        " (2369, 0, 0),\n",
        " (324, 99, 2),\n",
        " (325, 1344, 2),\n",
        " (2378, 0, 0),\n",
        " (332, 1201, 2),\n",
        " (333, 1027, 2),\n",
        " (2386, 1116, 2),\n",
        " (340, 0, 0),\n",
        " (2391, 859, 2),\n",
        " (2393, 0, 0),\n",
        " (2394, 769, 2),\n",
        " (2403, 0, 0),\n",
        " (2413, 0, 0),\n",
        " (373, 0, 2),\n",
        " (2427, 1271, 2),\n",
        " (390, 933, 2),\n",
        " (393, 0, 0),\n",
        " (2447, 0, 0),\n",
        " (400, 1037, 2),\n",
        " (2449, 1343, 2),\n",
        " (402, 1008, 2),\n",
        " (2455, 11, 2),\n",
        " (409, 16, 2),\n",
        " (2460, 0, 0),\n",
        " (419, 0, 0),\n",
        " (2470, 0, 0),\n",
        " (2482, 0, 0),\n",
        " (2484, 1335, 3),\n",
        " (443, 0, 0),\n",
        " (2496, 800, 2),\n",
        " (449, 0, 0),\n",
        " (2507, 0, 0),\n",
        " (461, 1295, 2),\n",
        " (2520, 0, 0),\n",
        " (2522, 0, 0),\n",
        " (2526, 0, 0),\n",
        " (2527, 3, 2),\n",
        " (481, 0, 0),\n",
        " (2534, 1273, 3),\n",
        " (488, 0, 0),\n",
        " (491, 1019, 2),\n",
        " (492, 0, 0),\n",
        " (2542, 0, 0),\n",
        " (2543, 0, 0),\n",
        " (500, 1230, 3),\n",
        " (505, 0, 0),\n",
        " (2555, 0, 0),\n",
        " (2540, 0, 0),\n",
        " (512, 0, 0),\n",
        " (2564, 1339, 2),\n",
        " (2571, 0, 0),\n",
        " (2596, 283, 2),\n",
        " (549, 1187, 2),\n",
        " (550, 0, 0),\n",
        " (2599, 0, 0),\n",
        " (2606, 1255, 2),\n",
        " (575, 12, 3),\n",
        " (584, 1284, 2),\n",
        " (2634, 0, 0),\n",
        " (2637, 0, 0),\n",
        " (592, 0, 0),\n",
        " (2147, 122, 2),\n",
        " (597, 1305, 2),\n",
        " (2648, 1235, 2),\n",
        " (601, 1280, 2),\n",
        " (612, 110, 2),\n",
        " (2666, 0, 0),\n",
        " (623, 0, 0),\n",
        " (2673, 1257, 2),\n",
        " (2677, 0, 0),\n",
        " (2680, 0, 2),\n",
        " (633, 0, 0),\n",
        " (634, 0, 0),\n",
        " (636, 0, 0),\n",
        " (642, 920, 2),\n",
        " (2691, 0, 0),\n",
        " (645, 113, 2),\n",
        " (2695, 0, 0),\n",
        " (2698, 2, 2),\n",
        " (2704, 0, 0),\n",
        " (2706, 1295, 2),\n",
        " (663, 0, 0),\n",
        " (664, 0, 2),\n",
        " (665, 0, 2),\n",
        " (672, 0, 0),\n",
        " (680, 0, 0),\n",
        " (686, 0, 0),\n",
        " (687, 1044, 2),\n",
        " (2736, 0, 0),\n",
        " (2749, 1360, 2),\n",
        " (709, 16, 2),\n",
        " (2758, 0, 0),\n",
        " (2760, 0, 0),\n",
        " (719, 0, 0),\n",
        " (2768, 2, 2),\n",
        " (723, 0, 0),\n",
        " (2773, 1237, 3),\n",
        " (727, 575, 2),\n",
        " (2776, 1360, 2),\n",
        " (2779, 1170, 2),\n",
        " (735, 0, 0),\n",
        " (739, 0, 0),\n",
        " (2789, 0, 2),\n",
        " (2790, 0, 0),\n",
        " (2791, 50, 2),\n",
        " (2809, 1315, 2),\n",
        " (767, 0, 0),\n",
        " (775, 0, 0),\n",
        " (2824, 0, 0),\n",
        " (2827, 1258, 2),\n",
        " (785, 1, 2),\n",
        " (795, 1342, 2),\n",
        " (2846, 1209, 2),\n",
        " (2855, 0, 0),\n",
        " (2856, 0, 0),\n",
        " (2860, 0, 0),\n",
        " (817, 0, 0),\n",
        " (826, 1197, 2),\n",
        " (479, 1105, 2),\n",
        " (828, 230, 2),\n",
        " (2878, 0, 0),\n",
        " (2880, 0, 0),\n",
        " (2883, 954, 3),\n",
        " (2884, 0, 0),\n",
        " (848, 1021, 2),\n",
        " (2899, 962, 2),\n",
        " (2903, 0, 0),\n",
        " (858, 1137, 2),\n",
        " (860, 0, 0),\n",
        " (864, 0, 0),\n",
        " (2915, 567, 2),\n",
        " (870, 0, 0),\n",
        " (871, 0, 2),\n",
        " (2876, 0, 0),\n",
        " (2922, 0, 2),\n",
        " (2923, 1344, 2),\n",
        " (883, 0, 0),\n",
        " (884, 1354, 2),\n",
        " (2939, 1201, 2),\n",
        " (892, 981, 2),\n",
        " (2950, 0, 0),\n",
        " (903, 0, 0),\n",
        " (905, 0, 0),\n",
        " (906, 1348, 2),\n",
        " (2957, 1035, 2),\n",
        " (2959, 0, 0),\n",
        " (2967, 1343, 3),\n",
        " (2981, 1073, 2),\n",
        " (2982, 1288, 3),\n",
        " (156, 0, 0),\n",
        " (939, 3, 2),\n",
        " (2994, 1142, 2),\n",
        " (972, 0, 0),\n",
        " (981, 0, 0),\n",
        " (985, 0, 0),\n",
        " (990, 0, 0),\n",
        " (992, 885, 2),\n",
        " (1003, 839, 2),\n",
        " (1008, 0, 0),\n",
        " (1010, 7, 2),\n",
        " (1013, 944, 2),\n",
        " (1014, 0, 0),\n",
        " (1020, 0, 0),\n",
        " (1034, 1344, 2),\n",
        " (1037, 871, 2),\n",
        " (1042, 907, 2),\n",
        " (1047, 1220, 2),\n",
        " (1049, 0, 0),\n",
        " (1079, 0, 0),\n",
        " (1081, 0, 0),\n",
        " (1094, 0, 0),\n",
        " (1112, 34, 2),\n",
        " (1118, 1331, 2),\n",
        " (1135, 0, 0),\n",
        " (1136, 1120, 3),\n",
        " (1139, 1359, 2),\n",
        " (1140, 1259, 2),\n",
        " (1141, 0, 0),\n",
        " (1143, 1128, 2),\n",
        " (1149, 109, 2),\n",
        " (1152, 0, 0),\n",
        " (1155, 1299, 2),\n",
        " (1166, 826, 2),\n",
        " (1169, 0, 0),\n",
        " (1173, 957, 2),\n",
        " (1178, 0, 0),\n",
        " (1183, 1313, 2),\n",
        " (1185, 0, 0),\n",
        " (1196, 1299, 2),\n",
        " (1201, 1121, 2),\n",
        " (1204, 1145, 2),\n",
        " (1206, 1, 2),\n",
        " (1207, 692, 2),\n",
        " (1224, 206, 2),\n",
        " (1229, 0, 0),\n",
        " (1231, 0, 0),\n",
        " (2255, 0, 0),\n",
        " (1246, 192, 2),\n",
        " (1250, 1207, 2),\n",
        " (551, 1359, 2),\n",
        " (1264, 1056, 3),\n",
        " (2497, 0, 0),\n",
        " (1268, 1127, 2),\n",
        " (1277, 0, 0),\n",
        " (1285, 0, 0),\n",
        " (1290, 0, 0),\n",
        " (1291, 0, 0),\n",
        " (1295, 1101, 2),\n",
        " (1301, 0, 0),\n",
        " (1323, 0, 0),\n",
        " (2271, 0, 0),\n",
        " (1342, 972, 2),\n",
        " (1351, 0, 0),\n",
        " (1360, 0, 0),\n",
        " (1363, 1120, 2),\n",
        " (1375, 0, 0),\n",
        " (1383, 0, 0),\n",
        " (1385, 1344, 2),\n",
        " (1388, 895, 2),\n",
        " (1389, 16, 2),\n",
        " (1398, 0, 0),\n",
        " (1401, 0, 0),\n",
        " (1259, 0, 0),\n",
        " (1414, 0, 0),\n",
        " (1418, 1310, 3),\n",
        " (1429, 42, 2),\n",
        " (1450, 0, 0),\n",
        " (1452, 0, 0),\n",
        " (1466, 912, 2),\n",
        " (1467, 1062, 2),\n",
        " (1470, 577, 2),\n",
        " (731, 14, 2),\n",
        " (1494, 0, 0),\n",
        " (1498, 0, 0),\n",
        " (1499, 0, 0),\n",
        " (1505, 0, 0),\n",
        " (1522, 0, 0),\n",
        " (1525, 0, 0),\n",
        " (1529, 0, 0),\n",
        " (1532, 749, 2),\n",
        " (1543, 1151, 2),\n",
        " (1548, 0, 0),\n",
        " (1549, 0, 0),\n",
        " (1559, 0, 0),\n",
        " (1561, 0, 2),\n",
        " (1566, 0, 0),\n",
        " (1582, 1109, 3),\n",
        " (2312, 0, 0),\n",
        " (1586, 0, 0),\n",
        " (1599, 0, 0),\n",
        " (1605, 30, 2),\n",
        " (1609, 112, 2),\n",
        " (1616, 811, 2),\n",
        " (1623, 1139, 2),\n",
        " (1625, 0, 0),\n",
        " (1637, 0, 0),\n",
        " (1640, 0, 0),\n",
        " (1648, 94, 2),\n",
        " (1651, 1282, 2),\n",
        " (1658, 0, 0),\n",
        " (1659, 140, 2),\n",
        " (618, 0, 0),\n",
        " (2238, 0, 0),\n",
        " (1682, 0, 0),\n",
        " (1695, 0, 0),\n",
        " (1698, 1266, 2),\n",
        " (1705, 0, 0),\n",
        " (1707, 2, 3),\n",
        " (1712, 869, 2),\n",
        " (1713, 0, 0),\n",
        " (1718, 0, 0),\n",
        " (516, 0, 0),\n",
        " (1740, 0, 0),\n",
        " (1750, 0, 0),\n",
        " (1755, 88, 2),\n",
        " (1762, 1168, 2),\n",
        " (2684, 17, 3),\n",
        " (1777, 1187, 2),\n",
        " (1787, 0, 0),\n",
        " (1790, 723, 2),\n",
        " (1791, 0, 0),\n",
        " (1793, 746, 2),\n",
        " (1794, 0, 0),\n",
        " (1798, 0, 0),\n",
        " (1824, 851, 2),\n",
        " (1834, 961, 2),\n",
        " (1837, 0, 0),\n",
        " (1840, 107, 2),\n",
        " (1869, 0, 0),\n",
        " (1870, 1323, 2),\n",
        " (1877, 64, 2),\n",
        " (1888, 1186, 2),\n",
        " (1902, 0, 0),\n",
        " (1906, 0, 0),\n",
        " (1911, 0, 0),\n",
        " (1912, 0, 0),\n",
        " (1913, 1165, 2),\n",
        " (1915, 0, 0),\n",
        " (1917, 1318, 2),\n",
        " (1919, 0, 0),\n",
        " (1929, 0, 0),\n",
        " (1933, 1337, 2),\n",
        " (1946, 896, 2),\n",
        " (1951, 0, 0),\n",
        " (1952, 130, 2),\n",
        " (1955, 0, 0),\n",
        " (1974, 1276, 2),\n",
        " (1978, 1078, 2),\n",
        " (1980, 3, 2),\n",
        " (1989, 0, 0),\n",
        " (1992, 1221, 2),\n",
        " (1995, 1156, 2),\n",
        " (2004, 1202, 2),\n",
        " (2007, 0, 0),\n",
        " (2013, 0, 0),\n",
        " (2015, 0, 0),\n",
        " (2028, 0, 0),\n",
        " (2034, 0, 0),\n",
        " (2036, 0, 0),\n",
        " (2043, 0, 0)]"
       ]
      }
     ],
     "prompt_number": 134
    },
    {
     "cell_type": "code",
     "collapsed": false,
     "input": [
      "plex[190]"
     ],
     "language": "python",
     "metadata": {},
     "outputs": [
      {
       "output_type": "pyout",
       "prompt_number": 137,
       "text": [
        "{393: {},\n",
        " 397: {},\n",
        " 1107: {},\n",
        " 1343: {},\n",
        " 1481: {},\n",
        " 1988: {},\n",
        " 2255: {},\n",
        " 2395: {},\n",
        " 2564: {},\n",
        " 2646: {},\n",
        " 2659: {}}"
       ]
      }
     ],
     "prompt_number": 137
    },
    {
     "cell_type": "code",
     "collapsed": false,
     "input": [
      "nx.draw_graphviz(ct)"
     ],
     "language": "python",
     "metadata": {},
     "outputs": [
      {
       "output_type": "display_data",
       "png": "[encoded data removed]"
      }
     ],
     "prompt_number": 111
    },
    {
     "cell_type": "code",
     "collapsed": false,
     "input": [
      "landscape = pyreeb.landscape.embed_contour_tree(ct, root_node)"
     ],
     "language": "python",
     "metadata": {},
     "outputs": [],
     "prompt_number": 44
    },
    {
     "cell_type": "code",
     "collapsed": false,
     "input": [
      "points, tris = pyreeb.landscape.triangulate_landscape(landscape, root_node)"
     ],
     "language": "python",
     "metadata": {},
     "outputs": [],
     "prompt_number": 45
    },
    {
     "cell_type": "code",
     "collapsed": false,
     "input": [
      "x,y,z = points.T"
     ],
     "language": "python",
     "metadata": {},
     "outputs": [],
     "prompt_number": 46
    },
    {
     "cell_type": "code",
     "collapsed": false,
     "input": [
      "from mayavi import mlab\n",
      "%gui wx"
     ],
     "language": "python",
     "metadata": {},
     "outputs": [],
     "prompt_number": 49
    },
    {
     "cell_type": "code",
     "collapsed": false,
     "input": [
      "mlab.triangular_mesh(x,y,z,tris)"
     ],
     "language": "python",
     "metadata": {},
     "outputs": [
      {
       "output_type": "pyout",
       "prompt_number": 50,
       "text": [
        "<mayavi.modules.surface.Surface at 0x9c482f0>"
       ]
      }
     ],
     "prompt_number": 50
    },
    {
     "cell_type": "code",
     "collapsed": false,
     "input": [],
     "language": "python",
     "metadata": {},
     "outputs": []
    }
   ],
   "metadata": {}
  }
 ]
}