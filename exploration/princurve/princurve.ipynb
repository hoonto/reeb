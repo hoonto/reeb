{
 "metadata": {
  "name": "princurve"
 },
 "nbformat": 3,
 "nbformat_minor": 0,
 "worksheets": [
  {
   "cells": [
    {
     "cell_type": "markdown",
     "metadata": {},
     "source": [
      "# Principal Curves"
     ]
    },
    {
     "cell_type": "code",
     "collapsed": false,
     "input": [
      "import numpy as np"
     ],
     "language": "python",
     "metadata": {},
     "outputs": [],
     "prompt_number": 1
    },
    {
     "cell_type": "markdown",
     "metadata": {},
     "source": [
      "First, we generate some points sampled from a manifold, and add some noise in each dimension."
     ]
    },
    {
     "cell_type": "code",
     "collapsed": false,
     "input": [
      "n_data_points = 50\n",
      "y_noise_sigma = .1\n",
      "\n",
      "data_x = np.random.sample(n_data_points)*2*pi\n",
      "data_y = np.sin(data_x) + np.random.normal(0,y_noise_sigma,n_data_points)\n",
      "\n",
      "data = np.column_stack((data_x, data_y))"
     ],
     "language": "python",
     "metadata": {},
     "outputs": [],
     "prompt_number": 2
    },
    {
     "cell_type": "code",
     "collapsed": false,
     "input": [
      "scatter(data[:,0], data[:,1])"
     ],
     "language": "python",
     "metadata": {},
     "outputs": [
      {
       "output_type": "pyout",
       "prompt_number": 3,
       "text": [
        "<matplotlib.collections.PathCollection at 0x32994d0>"
       ]
      },
      {
       "output_type": "display_data",
       "png": "[encoded data removed]"
      }
     ],
     "prompt_number": 3
    },
    {
     "cell_type": "markdown",
     "metadata": {},
     "source": [
      "We will seed the algorithm with the first principal component of the data."
     ]
    },
    {
     "cell_type": "code",
     "collapsed": false,
     "input": [
      "times = [0, 6]\n",
      "curve = np.array([(0,0),(6,0)])"
     ],
     "language": "python",
     "metadata": {},
     "outputs": [],
     "prompt_number": 4
    },
    {
     "cell_type": "code",
     "collapsed": false,
     "input": [
      "scatter(data[:,0], data[:,1])\n",
      "plot(curve[:,0], curve[:,1], color='black', linewidth=2, alpha=0.5)"
     ],
     "language": "python",
     "metadata": {},
     "outputs": [
      {
       "output_type": "pyout",
       "prompt_number": 5,
       "text": [
        "[<matplotlib.lines.Line2D at 0x31a0290>]"
       ]
      },
      {
       "output_type": "display_data",
       "png": "[encoded data removed]"
      }
     ],
     "prompt_number": 5
    },
    {
     "cell_type": "markdown",
     "metadata": {},
     "source": [
      "The algorithm consists of two parts: projection and expectation. First, we do projection. For each point in the data set, we look at each line segment in the curve. We project onto this line segment, then we take the projection with the smallest distance to be the point in the new curve."
     ]
    },
    {
     "cell_type": "code",
     "collapsed": false,
     "input": [
      "def project(data, times, curve):\n",
      "    \"\"\"\n",
      "    Given a data set and a time-parameterized curve in sorted order (by time),\n",
      "    projects the data points onto the curve and returns the projected times and \n",
      "    linearly-interpolated function values at the projected times.\n",
      "    \"\"\"\n",
      "    curve_segments = zip(curve[:-1], curve[1:])\n",
      "    segments = zip(times[:-1], curve_segments)\n",
      "    \n",
      "    new_times = np.empty((0,1))\n",
      "    new_curve = np.empty((0,curve.shape[1]))\n",
      "    \n",
      "    for datum in data:\n",
      "        \n",
      "        min_distance = np.infty\n",
      "        time = 0\n",
      "        new_curve_point = np.empty((0,curve.shape[1]))\n",
      "        \n",
      "        for time_start, (segment_start, segment_end) in segments:\n",
      "            # project the data point onto this segment\n",
      "            v = segment_end - segment_start\n",
      "            v = v/np.sqrt(v.dot(v))\n",
      "            delta_t = np.dot(datum-segment_start, v)\n",
      "            \n",
      "            distance = np.sqrt(np.sum((datum - (segment_start + v*delta_t))**2))\n",
      "            \n",
      "            if distance < min_distance:\n",
      "                min_distance = distance\n",
      "                time = time_start + delta_t\n",
      "                new_curve_point = segment_start + v*delta_t\n",
      "        \n",
      "        new_times = np.append(new_times, time)\n",
      "        new_curve = np.vstack((new_curve, new_curve_point))\n",
      "        \n",
      "    # reorganize the times and curve points\n",
      "    new_curve = new_curve[argsort(new_times)]\n",
      "    \n",
      "    # set the new times to be the arc length implied by the point order\n",
      "    new_segments = zip(new_curve[:-1], new_curve[1:])\n",
      "    new_segments_lengths = [np.sqrt(np.sum((s[1]-s[0])**2)) for s in new_segments]\n",
      "    new_times = np.hstack([0, np.cumsum(new_segments_lengths)])\n",
      "    \n",
      "    return new_times, new_curve"
     ],
     "language": "python",
     "metadata": {},
     "outputs": [],
     "prompt_number": 8
    },
    {
     "cell_type": "markdown",
     "metadata": {},
     "source": [
      "Now we need to compute the expectation step. We'll use the locally-weighted running-lines smoother as described in the paper, though later we might want to use a more general approach."
     ]
    },
    {
     "cell_type": "code",
     "collapsed": false,
     "input": [
      "times, curve = project(data, times, curve)"
     ],
     "language": "python",
     "metadata": {},
     "outputs": [],
     "prompt_number": 9
    },
    {
     "cell_type": "code",
     "collapsed": false,
     "input": [
      "span = 5\n",
      "\n",
      "for time, point in zip(times, curve):\n",
      "    # find the other points in time that are closest\n",
      "    neighborhood_inds = np.argsort(np.abs(times-time))\n",
      "    # take only \"span\" of them\n",
      "    neighborhood_inds = neighborhood_inds[:span]\n",
      "    neighborhood_times = times[neighborhood_inds]\n",
      "    neighborhood_points = curve[neighborhood_inds]\n",
      "    \n",
      "    # now we do a weighted least squared regression in each dimension,\n",
      "    # where the explanatory variable is time\n",
      "    fit_point = np.zeros((1,dim))\n",
      "    h = np.abs(time - neighborhood_times[-1])\n",
      "    weights = (1 - np.abs((neighborhood_times - time)/h)**3)**3\n",
      "    for dim in range(curve.shape[1]):\n",
      "        pass"
     ],
     "language": "python",
     "metadata": {},
     "outputs": [],
     "prompt_number": 34
    }
   ],
   "metadata": {}
  }
 ]
}