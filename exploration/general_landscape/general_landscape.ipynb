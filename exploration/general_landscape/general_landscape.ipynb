{
 "metadata": {
  "name": "general_landscape"
 },
 "nbformat": 3,
 "nbformat_minor": 0,
 "worksheets": [
  {
   "cells": [
    {
     "cell_type": "markdown",
     "metadata": {},
     "source": [
      "Generalized Landscape Metaphor\n",
      "===\n",
      "Produce the landscape metaphor of a non-simple contour tree."
     ]
    },
    {
     "cell_type": "markdown",
     "metadata": {},
     "source": [
      "## Read in the contour tree\n",
      "I used libtourtre in a very hacked-together way to compute the contour tree for the fuel dataset. There are two files: vertices.out and edges.out.\n",
      "\n",
      "Each line in vertices.out is of the form: vertex value."
     ]
    },
    {
     "cell_type": "markdown",
     "metadata": {},
     "source": [
      "Each line in edges.out is of the form: vertex1 vertex2 num_nodes_in_edge"
     ]
    },
    {
     "cell_type": "code",
     "collapsed": false,
     "input": [
      "with open(\"edges.out\") as fh:\n",
      "    lines = fh.readlines()\n",
      "    edges = np.array([l.strip().split() for l in lines], int)"
     ],
     "language": "python",
     "metadata": {},
     "outputs": [],
     "prompt_number": 1
    },
    {
     "cell_type": "code",
     "collapsed": false,
     "input": [
      "# convert the edge array to a list of tuples that networkx will like\n",
      "edge_tuples = [(n1,n2,dict(volume=v)) for (n1,n2,v) in edges.tolist()]"
     ],
     "language": "python",
     "metadata": {},
     "outputs": [],
     "prompt_number": 2
    },
    {
     "cell_type": "markdown",
     "metadata": {},
     "source": [
      "Now make a networkx graph out of this."
     ]
    },
    {
     "cell_type": "code",
     "collapsed": false,
     "input": [
      "import networkx as nx"
     ],
     "language": "python",
     "metadata": {},
     "outputs": [],
     "prompt_number": 3
    },
    {
     "cell_type": "code",
     "collapsed": false,
     "input": [
      "g = nx.Graph()\n",
      "g.add_edges_from(edge_tuples)"
     ],
     "language": "python",
     "metadata": {},
     "outputs": [],
     "prompt_number": 4
    },
    {
     "cell_type": "code",
     "collapsed": false,
     "input": [
      "with open(\"vertices.out\") as fh:\n",
      "    lines = fh.readlines()\n",
      "for l in lines:\n",
      "    n,h = l.strip().split()\n",
      "    g.node[int(n)]['height'] = int(h)"
     ],
     "language": "python",
     "metadata": {},
     "outputs": [],
     "prompt_number": 5
    },
    {
     "cell_type": "markdown",
     "metadata": {},
     "source": [
      "Now convert the graph to a tree"
     ]
    },
    {
     "cell_type": "code",
     "collapsed": false,
     "input": [
      "import sys\n",
      "sys.path.append(\"../landscape\")\n",
      "import landscape\n",
      "from landscape import induce_total_volume"
     ],
     "language": "python",
     "metadata": {},
     "outputs": [],
     "prompt_number": 6
    },
    {
     "cell_type": "code",
     "collapsed": false,
     "input": [
      "t = landscape.induce_tree(g,0)"
     ],
     "language": "python",
     "metadata": {},
     "outputs": [],
     "prompt_number": 7
    },
    {
     "cell_type": "markdown",
     "metadata": {},
     "source": [
      "And compute the tree properties."
     ]
    },
    {
     "cell_type": "code",
     "collapsed": false,
     "input": [
      "t = landscape.induce_total_volume(t)"
     ],
     "language": "python",
     "metadata": {},
     "outputs": [],
     "prompt_number": 8
    },
    {
     "cell_type": "markdown",
     "metadata": {},
     "source": [
      "## A toy tree"
     ]
    },
    {
     "cell_type": "code",
     "collapsed": false,
     "input": [
      "g = nx.Graph()\n",
      "g.add_edges_from([['u','v',{'volume':1}],\n",
      "                         ['v','x',{'volume':1}],\n",
      "                         ['v','y',{'volume':4}],\n",
      "                         ['y','w',{'volume':1}],\n",
      "                         ['y','z',{'volume':2}],\n",
      "                         ['y','q',{'volume':3}]])\n",
      "\n",
      "g.node['u']['height'] = 0\n",
      "g.node['v']['height'] = 1\n",
      "g.node['x']['height'] = 2\n",
      "g.node['y']['height'] = 3\n",
      "g.node['w']['height'] = 4\n",
      "g.node['z']['height'] = 5\n",
      "g.node['q']['height'] = 6\n",
      "\n",
      "toy_tree = landscape.induce_tree(g, 'u')\n",
      "toy_tree = landscape.induce_total_volume(toy_tree)"
     ],
     "language": "python",
     "metadata": {},
     "outputs": [],
     "prompt_number": 9
    },
    {
     "cell_type": "code",
     "collapsed": false,
     "input": [
      "nx.draw_graphviz(toy_tree)"
     ],
     "language": "python",
     "metadata": {},
     "outputs": [
      {
       "output_type": "display_data",
       "png": "[encoded data removed]"
      }
     ],
     "prompt_number": 10
    },
    {
     "cell_type": "markdown",
     "metadata": {},
     "source": [
      "## Drawing Functions"
     ]
    },
    {
     "cell_type": "code",
     "collapsed": false,
     "input": [
      "class Rectangle():\n",
      "    def __init__(self, x_min=0, x_max=1, y_min=0, y_max=1):\n",
      "        self._bounds = [x_min, x_max, y_min, y_max]\n",
      "        \n",
      "    def __repr__(self):\n",
      "        return \"Rectangle(x_min={0}, x_max={1}, y_min={2}, y_max={3})\".format(*self._bounds)\n",
      "        \n",
      "    def points(self):\n",
      "        \"\"\"\n",
      "        Returns the corner points of the rectangle as a list.\n",
      "        The list's order is set so that the points are [southwest, northwest, southeast, northeast]\n",
      "        \"\"\"\n",
      "        xmin, xmax, ymin, ymax = self._bounds\n",
      "        points = []\n",
      "        points.append([xmin,ymin])\n",
      "        points.append([xmin,ymax])\n",
      "        points.append([xmax,ymin])\n",
      "        points.append([xmax,ymax])\n",
      "        return points\n",
      "    \n",
      "    def scale(self, final_area):\n",
      "        \"\"\"\n",
      "        Scales the rectangle to area final_area without translation.\n",
      "        \"\"\"\n",
      "        xmin, xmax, ymin, ymax = self._bounds\n",
      "        aspect_ratio = self.aspect_ratio()\n",
      "        new_width = np.sqrt(final_area/aspect_ratio)\n",
      "        new_height = aspect_ratio*new_width\n",
      "        x_delta = (new_width - (xmax - xmin))/2\n",
      "        y_delta = (new_width - (ymax - ymin))/2\n",
      "        self._bounds = [xmin-x_delta, xmax+x_delta, ymin-y_delta, ymax+y_delta]\n",
      "        \n",
      "    def copy(self):\n",
      "        return Rectangle(*self._bounds)\n",
      "    \n",
      "    def bounds(self):\n",
      "        return list(self._bounds)\n",
      "        \n",
      "    def width(self):\n",
      "        return self._bounds[1] - self._bounds[0]\n",
      "    \n",
      "    def height(self):\n",
      "        return self._bounds[3] - self._bounds[2]\n",
      "    \n",
      "    def area(self):\n",
      "        return self.height()*self.width()\n",
      "    \n",
      "    def center(self):\n",
      "        xmin, xmax, ymin, ymax = self._bounds\n",
      "        return (xmax+xmin)/2.0, (ymax+ymin)/2.0\n",
      "    \n",
      "    def aspect_ratio(self):\n",
      "        return self.height()/float(self.width())\n",
      "    \n",
      "    def split(self, shares):\n",
      "        \"\"\"\n",
      "        Splits the rectangle in two, such that the left rectangle has pct% of the total area.\n",
      "        \"\"\"\n",
      "        x_min, x_max, y_min, y_max = self._bounds\n",
      "        \n",
      "        cursor = x_min\n",
      "        rectangles = []\n",
      "        assert sum(shares) <= 1, \"Shares must sum to at most one.\"\n",
      "        for s in shares:\n",
      "            delta = self.width()*s\n",
      "            rectangles.append(Rectangle(cursor, cursor+delta, y_min, y_max))\n",
      "            cursor += delta\n",
      "            \n",
      "        return rectangles"
     ],
     "language": "python",
     "metadata": {},
     "outputs": [],
     "prompt_number": 11
    },
    {
     "cell_type": "code",
     "collapsed": false,
     "input": [
      "class Contour:\n",
      "    def __init__(self):\n",
      "        self.type = None\n",
      "        self.indices = None\n",
      "        \n",
      "    def __repr__(self):\n",
      "        return self.type"
     ],
     "language": "python",
     "metadata": {},
     "outputs": [],
     "prompt_number": 12
    },
    {
     "cell_type": "code",
     "collapsed": false,
     "input": [
      "class RootContour(Contour):\n",
      "    def __init__(self, rectangle, height):\n",
      "        self.type = \"root\"\n",
      "        self.rectangle = rectangle\n",
      "        self.indices = None\n",
      "        self.height = height\n",
      "        \n",
      "    def enumerate_indices(self, base):\n",
      "        self.indices = (base + np.arange(4)).tolist()\n",
      "        points = self.rectangle.points()\n",
      "        points = np.column_stack((points, np.repeat(self.height, len(points))))\n",
      "        return points.tolist()"
     ],
     "language": "python",
     "metadata": {},
     "outputs": [],
     "prompt_number": 13
    },
    {
     "cell_type": "code",
     "collapsed": false,
     "input": [
      "class LeafContour(Contour):\n",
      "    def __init__(self,*args):\n",
      "        self.type = \"leaf\"\n",
      "        self.x, self.y, self.height = args\n",
      "        self.indices = None\n",
      "\n",
      "    def enumerate_indices(self, base):\n",
      "        self.indices = [base]\n",
      "        return [[self.x,self.y,self.height]]"
     ],
     "language": "python",
     "metadata": {},
     "outputs": [],
     "prompt_number": 14
    },
    {
     "cell_type": "code",
     "collapsed": false,
     "input": [
      "class SaddleOuterContour(Contour):\n",
      "    def __init__(self, rectangle, height, children=None):\n",
      "        self.type = \"saddleouter\"\n",
      "        self.rectangle = rectangle\n",
      "        self.indices = None\n",
      "        self.height = height\n",
      "        if children is None:\n",
      "            self.children = []\n",
      "        else:\n",
      "            self.children = children\n",
      "            \n",
      "    def enumerate_indices(self, base):\n",
      "        points = []\n",
      "        self.indices = [base, base+1]\n",
      "        \n",
      "        for inner_contour in self.children:\n",
      "            inner_rectangle = inner_contour.rectangle\n",
      "            points.extend(inner_rectangle.points()[:2])\n",
      "            inner_indices = list([base, base+1, base+2, base+3])\n",
      "            inner_contour.indices = inner_indices\n",
      "            base = base+2\n",
      "            \n",
      "        points.extend(inner_rectangle.points()[2:])\n",
      "        points = np.column_stack((points, np.repeat(self.height, len(points))))\n",
      "            \n",
      "        self.indices.extend([base, base+1])\n",
      "        return points.tolist()  "
     ],
     "language": "python",
     "metadata": {},
     "outputs": [],
     "prompt_number": 15
    },
    {
     "cell_type": "code",
     "collapsed": false,
     "input": [
      "class SaddleInnerContour(Contour):\n",
      "    def __init__(self, rectangle, child):\n",
      "        self.type = \"saddleinner\"\n",
      "        self.rectangle = rectangle\n",
      "        self.child = child\n",
      "        self.indices = None"
     ],
     "language": "python",
     "metadata": {},
     "outputs": [],
     "prompt_number": 16
    },
    {
     "cell_type": "code",
     "collapsed": false,
     "input": [
      "def map_nodes_to_contours(tree, bounding_rectangle=None):\n",
      "    \"\"\"\n",
      "    Given a tree, returns a tree where each node is mapped to a contour object.\n",
      "    \"\"\"\n",
      "    if bounding_rectangle is None:\n",
      "        bounding_rectangle = Rectangle(0,10,0,10)\n",
      "    landscape = tree.copy()\n",
      "    \n",
      "    # find the root\n",
      "    root_node = [n for n in landscape if landscape.in_degree(n)==0][0]\n",
      "    # handle the root node\n",
      "    root_height = landscape.node[root_node]['height']\n",
      "    root_contour = RootContour(bounding_rectangle, root_height)\n",
      "    landscape.node[root_node]['contour'] = root_contour\n",
      "    \n",
      "    # recurse (the child should be a saddle)\n",
      "    child_node = landscape.successors(root_node)[0]\n",
      "    map_saddle_to_contour(landscape, child_node, root_contour)\n",
      "            \n",
      "    return landscape"
     ],
     "language": "python",
     "metadata": {},
     "outputs": [],
     "prompt_number": 17
    },
    {
     "cell_type": "code",
     "collapsed": false,
     "input": [
      "def map_leaf_to_contour(landscape, node, parent_contour):\n",
      "    \"\"\"\n",
      "    Map a leaf node to its contour.\n",
      "    \"\"\"\n",
      "    x,y = parent_contour.rectangle.center()\n",
      "    height = landscape.node[node]['height']\n",
      "    leaf_contour = LeafContour(x,y,height)\n",
      "    landscape.node[node]['contour'] = leaf_contour"
     ],
     "language": "python",
     "metadata": {},
     "outputs": [],
     "prompt_number": 18
    },
    {
     "cell_type": "code",
     "collapsed": false,
     "input": [
      "def map_saddle_to_contour(landscape, node, parent_contour):\n",
      "    \"\"\"\n",
      "    Map a saddle to its contour.\n",
      "    \"\"\"\n",
      "    # calculate the correct area of the outer rectangle\n",
      "    parent = landscape.predecessors(node)[0]\n",
      "    parent_area = parent_contour.rectangle.area()\n",
      "    parent_volume = landscape.node[parent]['total_volume']\n",
      "    outer_volume = landscape.node[node]['total_volume']\n",
      "    outer_area = float(outer_volume)/parent_volume * parent_area\n",
      "    \n",
      "    # now scale the outer rectangle down to the appropriate area\n",
      "    outer_rectangle = parent_contour.rectangle.copy()\n",
      "    outer_rectangle.scale(outer_area)\n",
      "    \n",
      "    # make the outer contour\n",
      "    outer_height = landscape.node[node]['height']\n",
      "    outer_contour = SaddleOuterContour(outer_rectangle, outer_height)    \n",
      "    \n",
      "    # split the outer rectangle into pieces for the children\n",
      "    inner_volumes = [landscape.edge[node][n]['total_volume'] for n in landscape[node]]\n",
      "    inner_shares = [float(v)/outer_volume for v in inner_volumes]\n",
      "    inner_rectangles = outer_rectangle.split(inner_shares)\n",
      "    \n",
      "    children = landscape.successors(node)\n",
      "    for child, inner_rectangle in zip(children, inner_rectangles):\n",
      "        inner_contour = SaddleInnerContour(inner_rectangle, child)\n",
      "        outer_contour.children.append(inner_contour)\n",
      "        \n",
      "        if landscape.out_degree(child) == 0:\n",
      "            map_leaf_to_contour(landscape, child, inner_contour)\n",
      "        else:\n",
      "            map_saddle_to_contour(landscape, child, inner_contour)\n",
      "            \n",
      "    landscape.node[node]['contour'] = outer_contour"
     ],
     "language": "python",
     "metadata": {},
     "outputs": [],
     "prompt_number": 19
    },
    {
     "cell_type": "code",
     "collapsed": false,
     "input": [
      "landscape = map_nodes_to_contours(toy_tree)"
     ],
     "language": "python",
     "metadata": {},
     "outputs": [],
     "prompt_number": 20
    },
    {
     "cell_type": "code",
     "collapsed": false,
     "input": [
      "nx.draw_graphviz(toy_tree)"
     ],
     "language": "python",
     "metadata": {},
     "outputs": [
      {
       "output_type": "display_data",
       "png": "[encoded data removed]"
      }
     ],
     "prompt_number": 21
    },
    {
     "cell_type": "code",
     "collapsed": false,
     "input": [
      "def enumerate_contour_points(landscape):\n",
      "    \"\"\"\n",
      "    Enumerate the points in the landscape, returning an array of the points and\n",
      "    mapping each contour in the tree to this list.\n",
      "    \"\"\"\n",
      "    points = []\n",
      "    base = 0\n",
      "    for node in landscape:\n",
      "        node_points = landscape.node[node]['contour'].enumerate_indices(base)\n",
      "        base += len(node_points)\n",
      "        points.extend(node_points)\n",
      "    return np.array(points)"
     ],
     "language": "python",
     "metadata": {},
     "outputs": [],
     "prompt_number": 22
    },
    {
     "cell_type": "code",
     "collapsed": false,
     "input": [
      "points = enumerate_contour_points(landscape)"
     ],
     "language": "python",
     "metadata": {},
     "outputs": [],
     "prompt_number": 23
    },
    {
     "cell_type": "markdown",
     "metadata": {},
     "source": [
      "## Triangulation"
     ]
    },
    {
     "cell_type": "code",
     "collapsed": false,
     "input": [
      "def triangulate_rectangular_contours(landscape):\n",
      "    \"\"\"\n",
      "    Given an enumerated contour landscape tree, returns a list of the triangles in the landscape metaphor.\n",
      "    \"\"\"\n",
      "    root_node = [n for n in landscape if landscape.in_degree(n)==0][0]\n",
      "    triangles = []\n",
      "    \n",
      "    # handle the root node\n",
      "    child_node = landscape.successors(root_node)[0]\n",
      "    outer_inds = landscape.node[root_node]['contour'].indices\n",
      "    inner_inds = landscape.node[child_node]['contour'].indices\n",
      "    triangles.extend(triangulate_nested_rectangle(outer_inds, inner_inds))\n",
      "    \n",
      "    # now work through the remaining nodes\n",
      "    dfs_nodes = nx.dfs_preorder_nodes(landscape, root_node)\n",
      "    dfs_nodes.next()\n",
      "    for node in dfs_nodes:\n",
      "        # we only do something if this is not a leaf\n",
      "        is_leaf = landscape.out_degree(node)==0\n",
      "        if not is_leaf:\n",
      "            outer_saddle_contour = landscape.node[node]['contour']\n",
      "            for inner_saddle_contour in outer_saddle_contour.children:\n",
      "                child = inner_saddle_contour.child\n",
      "                child_contour = landscape.node[child]['contour']\n",
      "                inner_saddle_indices = inner_saddle_contour.indices\n",
      "                child_indices = child_contour.indices\n",
      "                \n",
      "                if child_contour.type == 'leaf':\n",
      "                    triangles.extend(triangulate_nested_point(inner_saddle_indices, child_indices[0]))\n",
      "                else:\n",
      "                    triangles.extend(triangulate_nested_rectangle(inner_saddle_indices, child_indices))\n",
      "        \n",
      "    return triangles"
     ],
     "language": "python",
     "metadata": {},
     "outputs": [],
     "prompt_number": 33
    },
    {
     "cell_type": "code",
     "collapsed": false,
     "input": [
      "def triangulate_nested_rectangle(outer, inner):\n",
      "    \"\"\"\n",
      "    Given the indices of the corner points of an outer rectangle in conventional order, and the \n",
      "    indices of the corner points of an inner rectangle in conventional order, returns a list of\n",
      "    3-tuples of indices which represent the triangulation of the area in between the rectangles.\n",
      "    \"\"\"\n",
      "    triangles = []\n",
      "    triangles.append([outer[0], inner[0], inner[1]])\n",
      "    triangles.append([outer[1], inner[1], inner[3]])\n",
      "    triangles.append([outer[3], inner[3], inner[2]])\n",
      "    triangles.append([outer[2], inner[0], inner[2]])\n",
      "    triangles.append([outer[0], outer[1], inner[1]])\n",
      "    triangles.append([outer[1], outer[3], inner[3]])\n",
      "    triangles.append([outer[3], outer[2], inner[2]])\n",
      "    triangles.append([outer[2], outer[0], inner[0]])\n",
      "    return triangles"
     ],
     "language": "python",
     "metadata": {},
     "outputs": [],
     "prompt_number": 34
    },
    {
     "cell_type": "code",
     "collapsed": false,
     "input": [
      "def triangulate_nested_point(rectangle, point):\n",
      "    \"\"\"\n",
      "    Given the indices of the corner points of an outer rectangle in conventional order, and\n",
      "    the index of a point that lies inside the rectangle, returns a list of 3-tuples of\n",
      "    indices which represent the triangulation of the point within the rectangle.\n",
      "    \"\"\"\n",
      "    triangles = []\n",
      "    triangles.append([rectangle[0], rectangle[1], point])\n",
      "    triangles.append([rectangle[1], rectangle[3], point])\n",
      "    triangles.append([rectangle[3], rectangle[2], point])\n",
      "    triangles.append([rectangle[2], rectangle[0], point])\n",
      "    return triangles"
     ],
     "language": "python",
     "metadata": {},
     "outputs": [],
     "prompt_number": 35
    },
    {
     "cell_type": "code",
     "collapsed": false,
     "input": [
      "tris = triangulate_rectangular_contours(landscape)"
     ],
     "language": "python",
     "metadata": {},
     "outputs": [],
     "prompt_number": 36
    },
    {
     "cell_type": "code",
     "collapsed": false,
     "input": [
      "x,y,z = points.T"
     ],
     "language": "python",
     "metadata": {},
     "outputs": [],
     "prompt_number": 37
    },
    {
     "cell_type": "code",
     "collapsed": false,
     "input": [
      "from mayavi import mlab\n",
      "%gui wx"
     ],
     "language": "python",
     "metadata": {},
     "outputs": [],
     "prompt_number": 38
    },
    {
     "cell_type": "code",
     "collapsed": false,
     "input": [
      "mlab.triangular_mesh(x,y,z,tris)"
     ],
     "language": "python",
     "metadata": {},
     "outputs": [
      {
       "output_type": "pyout",
       "prompt_number": 39,
       "text": [
        "<mayavi.modules.surface.Surface at 0x8420a70>"
       ]
      }
     ],
     "prompt_number": 39
    },
    {
     "cell_type": "code",
     "collapsed": false,
     "input": [
      "lscape = map_nodes_to_contours(t)"
     ],
     "language": "python",
     "metadata": {},
     "outputs": [],
     "prompt_number": 42
    },
    {
     "cell_type": "code",
     "collapsed": false,
     "input": [
      "points = enumerate_contour_points(lscape)"
     ],
     "language": "python",
     "metadata": {},
     "outputs": [],
     "prompt_number": 43
    },
    {
     "cell_type": "code",
     "collapsed": false,
     "input": [
      "scaled_points = scale_point_heights(points, [0,.5])"
     ],
     "language": "python",
     "metadata": {},
     "outputs": [],
     "prompt_number": 63
    },
    {
     "cell_type": "code",
     "collapsed": false,
     "input": [
      "tris = triangulate_rectangular_contours(lscape)"
     ],
     "language": "python",
     "metadata": {},
     "outputs": [],
     "prompt_number": 64
    },
    {
     "cell_type": "code",
     "collapsed": false,
     "input": [
      "x,y,z = scaled_points.T"
     ],
     "language": "python",
     "metadata": {},
     "outputs": [],
     "prompt_number": 65
    },
    {
     "cell_type": "code",
     "collapsed": false,
     "input": [
      "mlab.triangular_mesh(x,y,z,tris)"
     ],
     "language": "python",
     "metadata": {},
     "outputs": [
      {
       "output_type": "pyout",
       "prompt_number": 66,
       "text": [
        "<mayavi.modules.surface.Surface at 0x866c9b0>"
       ]
      }
     ],
     "prompt_number": 66
    },
    {
     "cell_type": "code",
     "collapsed": false,
     "input": [
      "def scale_point_heights(points, z_range):\n",
      "    \"\"\"\n",
      "    Scales the z coordinate of points to fall within z_range.\n",
      "    \"\"\"\n",
      "    z = points[:,2]\n",
      "    alpha = float(z_range[1] - z_range[0])/(np.max(z) - np.min(z))\n",
      "    beta = alpha*np.min(z) - z_range[0]\n",
      "    z = alpha*z + beta\n",
      "    scaled_points = points.copy()\n",
      "    scaled_points[:,2] = z\n",
      "    return scaled_points"
     ],
     "language": "python",
     "metadata": {},
     "outputs": [],
     "prompt_number": 55
    },
    {
     "cell_type": "code",
     "collapsed": false,
     "input": [],
     "language": "python",
     "metadata": {},
     "outputs": []
    }
   ],
   "metadata": {}
  }
 ]
}