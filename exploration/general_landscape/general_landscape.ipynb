{
 "metadata": {
  "name": "general_landscape"
 },
 "nbformat": 3,
 "nbformat_minor": 0,
 "worksheets": [
  {
   "cells": [
    {
     "cell_type": "markdown",
     "metadata": {},
     "source": [
      "Generalized Landscape Metaphor\n",
      "===\n",
      "Produce the landscape metaphor of a non-simple contour tree."
     ]
    },
    {
     "cell_type": "markdown",
     "metadata": {},
     "source": [
      "## Read in the contour tree\n",
      "I used libtourtre in a very hacked-together way to compute the contour tree for the fuel dataset. There are two files: vertices.out and edges.out.\n",
      "\n",
      "Each line in vertices.out is of the form: vertex value."
     ]
    },
    {
     "cell_type": "markdown",
     "metadata": {},
     "source": [
      "Each line in edges.out is of the form: vertex1 vertex2 num_nodes_in_edge"
     ]
    },
    {
     "cell_type": "code",
     "collapsed": false,
     "input": [
      "with open(\"edges.out\") as fh:\n",
      "    lines = fh.readlines()\n",
      "    edges = np.array([l.strip().split() for l in lines], int)"
     ],
     "language": "python",
     "metadata": {},
     "outputs": [],
     "prompt_number": 1
    },
    {
     "cell_type": "code",
     "collapsed": false,
     "input": [
      "# convert the edge array to a list of tuples that networkx will like\n",
      "edge_tuples = [(n1,n2,dict(volume=v)) for (n1,n2,v) in edges.tolist()]"
     ],
     "language": "python",
     "metadata": {},
     "outputs": [],
     "prompt_number": 2
    },
    {
     "cell_type": "markdown",
     "metadata": {},
     "source": [
      "Now make a networkx graph out of this."
     ]
    },
    {
     "cell_type": "code",
     "collapsed": false,
     "input": [
      "import networkx as nx"
     ],
     "language": "python",
     "metadata": {},
     "outputs": [],
     "prompt_number": 3
    },
    {
     "cell_type": "code",
     "collapsed": false,
     "input": [
      "g = nx.Graph()\n",
      "g.add_edges_from(edge_tuples)"
     ],
     "language": "python",
     "metadata": {},
     "outputs": [],
     "prompt_number": 4
    },
    {
     "cell_type": "code",
     "collapsed": false,
     "input": [
      "with open(\"vertices.out\") as fh:\n",
      "    lines = fh.readlines()\n",
      "for l in lines:\n",
      "    n,h = l.strip().split()\n",
      "    g.node[int(n)]['height'] = int(h)"
     ],
     "language": "python",
     "metadata": {},
     "outputs": [],
     "prompt_number": 5
    },
    {
     "cell_type": "markdown",
     "metadata": {},
     "source": [
      "Now convert the graph to a tree"
     ]
    },
    {
     "cell_type": "code",
     "collapsed": false,
     "input": [
      "import sys\n",
      "sys.path.append(\"../landscape\")\n",
      "import landscape\n",
      "from landscape import induce_total_volume"
     ],
     "language": "python",
     "metadata": {},
     "outputs": [],
     "prompt_number": 6
    },
    {
     "cell_type": "code",
     "collapsed": false,
     "input": [
      "t = landscape.induce_tree(g,0)"
     ],
     "language": "python",
     "metadata": {},
     "outputs": [],
     "prompt_number": 7
    },
    {
     "cell_type": "markdown",
     "metadata": {},
     "source": [
      "And compute the tree properties."
     ]
    },
    {
     "cell_type": "code",
     "collapsed": false,
     "input": [
      "t = landscape.induce_total_volume(t)"
     ],
     "language": "python",
     "metadata": {},
     "outputs": [],
     "prompt_number": 8
    },
    {
     "cell_type": "markdown",
     "metadata": {},
     "source": [
      "## A toy tree"
     ]
    },
    {
     "cell_type": "code",
     "collapsed": false,
     "input": [
      "g = nx.Graph()\n",
      "g.add_edges_from([['u','v',{'volume':1}],\n",
      "                         ['v','x',{'volume':1}],\n",
      "                         ['v','y',{'volume':4}],\n",
      "                         ['y','w',{'volume':1}],\n",
      "                         ['y','z',{'volume':2}]])\n",
      "                         #['y','q',{'volume':3}]])\n",
      "\n",
      "g.node['u']['height'] = 0\n",
      "g.node['v']['height'] = 1\n",
      "g.node['x']['height'] = 2\n",
      "g.node['y']['height'] = 3\n",
      "g.node['w']['height'] = 4\n",
      "g.node['z']['height'] = 5\n",
      "#g.node['q']['height'] = 6\n",
      "\n",
      "toy_tree = landscape.induce_tree(g, 'u')\n",
      "toy_tree = landscape.induce_total_volume(toy_tree)"
     ],
     "language": "python",
     "metadata": {},
     "outputs": [],
     "prompt_number": 9
    },
    {
     "cell_type": "code",
     "collapsed": false,
     "input": [
      "nx.draw_graphviz(toy_tree)"
     ],
     "language": "python",
     "metadata": {},
     "outputs": [
      {
       "output_type": "display_data",
       "png": "[encoded data removed]"
      }
     ],
     "prompt_number": 10
    },
    {
     "cell_type": "markdown",
     "metadata": {},
     "source": [
      "## Drawing Functions"
     ]
    },
    {
     "cell_type": "code",
     "collapsed": false,
     "input": [
      "class Rectangle():\n",
      "    def __init__(self, x_min=0, x_max=1, y_min=0, y_max=1):\n",
      "        self._bounds = [x_min, x_max, y_min, y_max]\n",
      "        \n",
      "    def __repr__(self):\n",
      "        return \"Rectangle(x_min={0}, x_max={1}, y_min={2}, y_max={3})\".format(*self._bounds)\n",
      "        \n",
      "    def points(self):\n",
      "        \"\"\"\n",
      "        Returns the corner points of the rectangle as a list.\n",
      "        The list's order is set so that the points are [southwest, northwest, southeast, northeast]\n",
      "        \"\"\"\n",
      "        xmin, xmax, ymin, ymax = self._bounds\n",
      "        points = []\n",
      "        points.append([xmin,ymin])\n",
      "        points.append([xmin,ymax])\n",
      "        points.append([xmax,ymin])\n",
      "        points.append([xmax,ymax])\n",
      "        return points\n",
      "    \n",
      "    def scale(self, final_area):\n",
      "        \"\"\"\n",
      "        Scales the rectangle to area final_area without translation.\n",
      "        \"\"\"\n",
      "        xmin, xmax, ymin, ymax = self._bounds\n",
      "        aspect_ratio = self.aspect_ratio()\n",
      "        new_width = np.sqrt(final_area/aspect_ratio)\n",
      "        new_height = aspect_ratio*new_width\n",
      "        x_delta = (new_width - (xmax - xmin))/2\n",
      "        y_delta = (new_width - (ymax - ymin))/2\n",
      "        self._bounds = [xmin-x_delta, xmax+x_delta, ymin-y_delta, ymax+y_delta]\n",
      "        \n",
      "    def copy(self):\n",
      "        return Rectangle(*self._bounds)\n",
      "    \n",
      "    def bounds(self):\n",
      "        return list(self._bounds)\n",
      "        \n",
      "    def width(self):\n",
      "        return self._bounds[1] - self._bounds[0]\n",
      "    \n",
      "    def height(self):\n",
      "        return self._bounds[3] - self._bounds[2]\n",
      "    \n",
      "    def area(self):\n",
      "        return self.height()*self.width()\n",
      "    \n",
      "    def center(self):\n",
      "        xmin, xmax, ymin, ymax = self._bounds\n",
      "        return (xmax+xmin)/2.0, (ymax+ymin)/2.0\n",
      "    \n",
      "    def aspect_ratio(self):\n",
      "        return self.height()/float(self.width())\n",
      "    \n",
      "    def split(self, shares):\n",
      "        \"\"\"\n",
      "        Splits the rectangle in two, such that the left rectangle has pct% of the total area.\n",
      "        \"\"\"\n",
      "        x_min, x_max, y_min, y_max = self._bounds\n",
      "        \n",
      "        cursor = x_min\n",
      "        rectangles = []\n",
      "        assert sum(shares) <= 1, \"Shares must sum to at most one.\"\n",
      "        for s in shares:\n",
      "            delta = self.width()*s\n",
      "            rectangles.append(Rectangle(cursor, cursor+delta, y_min, y_max))\n",
      "            cursor += delta\n",
      "            \n",
      "        return rectangles"
     ],
     "language": "python",
     "metadata": {},
     "outputs": [],
     "prompt_number": 178
    },
    {
     "cell_type": "code",
     "collapsed": false,
     "input": [
      "class Contour:\n",
      "    def __init__(self):\n",
      "        self.type = None\n",
      "        self.indices = None\n",
      "        \n",
      "    def __repr__(self):\n",
      "        return self.type"
     ],
     "language": "python",
     "metadata": {},
     "outputs": [],
     "prompt_number": 28
    },
    {
     "cell_type": "code",
     "collapsed": false,
     "input": [
      "class RootContour(Contour):\n",
      "    def __init__(self, rectangle, height):\n",
      "        self.type = \"root\"\n",
      "        self.rectangle = rectangle\n",
      "        self.indices = None\n",
      "        self.height = height\n",
      "        \n",
      "    def enumerate_indices(self, base):\n",
      "        self.indices = (base + np.arange(4)).tolist()\n",
      "        points = self.rectangle.points()\n",
      "        points = np.column_stack((points, np.repeat(self.height, len(points))))\n",
      "        return points.tolist()"
     ],
     "language": "python",
     "metadata": {},
     "outputs": [],
     "prompt_number": 234
    },
    {
     "cell_type": "code",
     "collapsed": false,
     "input": [
      "class LeafContour(Contour):\n",
      "    def __init__(self,*args):\n",
      "        self.type = \"leaf\"\n",
      "        self.x, self.y, self.height = args\n",
      "        self.indices = None\n",
      "\n",
      "    def enumerate_indices(self, base):\n",
      "        self.indices = [base]\n",
      "        return [[self.x,self.y,self.height]]"
     ],
     "language": "python",
     "metadata": {},
     "outputs": [],
     "prompt_number": 235
    },
    {
     "cell_type": "code",
     "collapsed": false,
     "input": [
      "class SaddleOuterContour(Contour):\n",
      "    def __init__(self, rectangle, height, children=None):\n",
      "        self.type = \"saddleouter\"\n",
      "        self.rectangle = rectangle\n",
      "        self.indices = None\n",
      "        self.height = height\n",
      "        if children is None:\n",
      "            self.children = []\n",
      "        else:\n",
      "            self.children = children\n",
      "            \n",
      "    def enumerate_indices(self, base):\n",
      "        points = []\n",
      "        self.indices = [base, base+1]\n",
      "        \n",
      "        for inner_contour in self.children:\n",
      "            inner_rectangle = inner_contour.rectangle\n",
      "            points.extend(inner_rectangle.points()[:2])\n",
      "            inner_indices = list([base, base+1, base+2, base+3])\n",
      "            inner_contour.indices = inner_indices\n",
      "            base = base+2\n",
      "            \n",
      "        points.extend(inner_rectangle.points()[2:])\n",
      "        points = np.column_stack((points, np.repeat(self.height, len(points))))\n",
      "            \n",
      "        self.indices.extend([base, base+1])\n",
      "        return points.tolist()  "
     ],
     "language": "python",
     "metadata": {},
     "outputs": [],
     "prompt_number": 246
    },
    {
     "cell_type": "code",
     "collapsed": false,
     "input": [
      "class SaddleInnerContour(Contour):\n",
      "    def __init__(self, rectangle):\n",
      "        self.type = \"saddleinner\"\n",
      "        self.rectangle = rectangle\n",
      "        self.indices = None"
     ],
     "language": "python",
     "metadata": {},
     "outputs": [],
     "prompt_number": 247
    },
    {
     "cell_type": "code",
     "collapsed": false,
     "input": [
      "def map_nodes_to_contours(tree, bounding_rectangle=None):\n",
      "    \"\"\"\n",
      "    Given a tree, returns a tree where each node is mapped to a contour object.\n",
      "    \"\"\"\n",
      "    if bounding_rectangle is None:\n",
      "        bounding_rectangle = Rectangle(0,10,0,10)\n",
      "    landscape = tree.copy()\n",
      "    \n",
      "    # find the root\n",
      "    root_node = [n for n in landscape if landscape.in_degree(n)==0][0]\n",
      "    # handle the root node\n",
      "    root_height = landscape.node[root_node]['height']\n",
      "    root_contour = RootContour(bounding_rectangle, root_height)\n",
      "    landscape.node[root_node]['contour'] = root_contour\n",
      "    \n",
      "    # recurse (the child should be a saddle)\n",
      "    child_node = landscape.successors(root_node)[0]\n",
      "    map_saddle_to_contour(landscape, child_node, root_contour)\n",
      "            \n",
      "    return landscape"
     ],
     "language": "python",
     "metadata": {},
     "outputs": [],
     "prompt_number": 248
    },
    {
     "cell_type": "code",
     "collapsed": false,
     "input": [
      "def map_leaf_to_contour(landscape, node, parent_contour):\n",
      "    \"\"\"\n",
      "    Map a leaf node to its contour.\n",
      "    \"\"\"\n",
      "    x,y = parent_contour.rectangle.center()\n",
      "    height = landscape.node[node]['height']\n",
      "    leaf_contour = LeafContour(x,y,height)\n",
      "    landscape.node[node]['contour'] = leaf_contour"
     ],
     "language": "python",
     "metadata": {},
     "outputs": [],
     "prompt_number": 249
    },
    {
     "cell_type": "code",
     "collapsed": false,
     "input": [
      "def map_saddle_to_contour(landscape, node, parent_contour):\n",
      "    \"\"\"\n",
      "    Map a saddle to its contour.\n",
      "    \"\"\"\n",
      "    # calculate the correct area of the outer rectangle\n",
      "    parent = landscape.predecessors(node)[0]\n",
      "    parent_area = parent_contour.rectangle.area()\n",
      "    parent_volume = landscape.node[parent]['total_volume']\n",
      "    outer_volume = landscape.node[node]['total_volume']\n",
      "    outer_area = float(outer_volume)/parent_volume * parent_area\n",
      "    \n",
      "    # now scale the outer rectangle down to the appropriate area\n",
      "    outer_rectangle = parent_contour.rectangle.copy()\n",
      "    outer_rectangle.scale(outer_area)\n",
      "    \n",
      "    # make the outer contour\n",
      "    outer_height = landscape.node[node]['height']\n",
      "    outer_contour = SaddleOuterContour(outer_rectangle, outer_height)    \n",
      "    \n",
      "    # split the outer rectangle into pieces for the children\n",
      "    inner_volumes = [landscape.edge[node][n]['total_volume'] for n in landscape[node]]\n",
      "    inner_shares = [float(v)/outer_volume for v in inner_volumes]\n",
      "    inner_rectangles = outer_rectangle.split(inner_shares)\n",
      "    \n",
      "    children = landscape.successors(node)\n",
      "    for child, inner_rectangle in zip(children, inner_rectangles):\n",
      "        inner_contour = SaddleInnerContour(inner_rectangle)\n",
      "        outer_contour.children.append(inner_contour)\n",
      "        \n",
      "        if landscape.out_degree(child) == 0:\n",
      "            map_leaf_to_contour(landscape, child, inner_contour)\n",
      "        else:\n",
      "            map_saddle_to_contour(landscape, child, inner_contour)\n",
      "            \n",
      "    landscape.node[node]['contour'] = outer_contour"
     ],
     "language": "python",
     "metadata": {},
     "outputs": [],
     "prompt_number": 250
    },
    {
     "cell_type": "code",
     "collapsed": false,
     "input": [
      "landscape = map_nodes_to_contours(toy_tree)"
     ],
     "language": "python",
     "metadata": {},
     "outputs": [],
     "prompt_number": 251
    },
    {
     "cell_type": "code",
     "collapsed": false,
     "input": [
      "nx.draw_graphviz(toy_tree)"
     ],
     "language": "python",
     "metadata": {},
     "outputs": [
      {
       "output_type": "display_data",
       "png": "[encoded data removed]"
      }
     ],
     "prompt_number": 252
    },
    {
     "cell_type": "code",
     "collapsed": false,
     "input": [
      "def enumerate_contour_points(landscape):\n",
      "    \"\"\"\n",
      "    Enumerate the points in the landscape, returning a list of the points and\n",
      "    mapping each contour in the tree to this list.\n",
      "    \"\"\"\n",
      "    points = []\n",
      "    base = 0\n",
      "    for node in landscape:\n",
      "        node_points = landscape.node[node]['contour'].enumerate_indices(base)\n",
      "        base += len(node_points)\n",
      "        points.extend(node_points)\n",
      "    return points"
     ],
     "language": "python",
     "metadata": {},
     "outputs": [],
     "prompt_number": 259
    },
    {
     "cell_type": "code",
     "collapsed": false,
     "input": [
      "def triangulate_rectangular_contours(landscape):\n",
      "    \"\"\"\n",
      "    Given an enumerated contour landscape tree, returns a list of the triangles in the landscape metaphor.\n",
      "    \"\"\""
     ],
     "language": "python",
     "metadata": {},
     "outputs": [],
     "prompt_number": 260
    }
   ],
   "metadata": {}
  }
 ]
}